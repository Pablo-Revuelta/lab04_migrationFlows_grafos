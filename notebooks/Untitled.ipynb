{
 "cells": [
  {
   "cell_type": "code",
   "execution_count": 1,
   "metadata": {},
   "outputs": [],
   "source": [
    "import pandas as pd\n",
    "import numpy as np"
   ]
  },
  {
   "cell_type": "code",
   "execution_count": 2,
   "metadata": {},
   "outputs": [],
   "source": [
    "file2 = '../data/UNdata_Export_20201229_115614587.txt'"
   ]
  },
  {
   "cell_type": "code",
   "execution_count": 9,
   "metadata": {},
   "outputs": [],
   "source": [
    "migration = pd.read_csv(file2, sep = \";\")"
   ]
  },
  {
   "cell_type": "code",
   "execution_count": 10,
   "metadata": {},
   "outputs": [
    {
     "data": {
      "text/html": [
       "<div>\n",
       "<style scoped>\n",
       "    .dataframe tbody tr th:only-of-type {\n",
       "        vertical-align: middle;\n",
       "    }\n",
       "\n",
       "    .dataframe tbody tr th {\n",
       "        vertical-align: top;\n",
       "    }\n",
       "\n",
       "    .dataframe thead th {\n",
       "        text-align: right;\n",
       "    }\n",
       "</style>\n",
       "<table border=\"1\" class=\"dataframe\">\n",
       "  <thead>\n",
       "    <tr style=\"text-align: right;\">\n",
       "      <th></th>\n",
       "      <th>Country or Area</th>\n",
       "      <th>Year</th>\n",
       "      <th>Area</th>\n",
       "      <th>Sex</th>\n",
       "      <th>Country of previous usual residence</th>\n",
       "      <th>Record Type</th>\n",
       "      <th>Reliability</th>\n",
       "      <th>Source Year</th>\n",
       "      <th>Value</th>\n",
       "      <th>Value Footnotes</th>\n",
       "    </tr>\n",
       "  </thead>\n",
       "  <tbody>\n",
       "    <tr>\n",
       "      <th>0</th>\n",
       "      <td>Åland Islands</td>\n",
       "      <td>2018</td>\n",
       "      <td>Total</td>\n",
       "      <td>Both Sexes</td>\n",
       "      <td>Total</td>\n",
       "      <td>Migration flows: Administrative register</td>\n",
       "      <td>Final figure, complete</td>\n",
       "      <td>2020.0</td>\n",
       "      <td>1080.0</td>\n",
       "      <td>1,2</td>\n",
       "    </tr>\n",
       "    <tr>\n",
       "      <th>1</th>\n",
       "      <td>Åland Islands</td>\n",
       "      <td>2018</td>\n",
       "      <td>Total</td>\n",
       "      <td>Both Sexes</td>\n",
       "      <td>AFRICA</td>\n",
       "      <td>Migration flows: Administrative register</td>\n",
       "      <td>Final figure, complete</td>\n",
       "      <td>2020.0</td>\n",
       "      <td>3.0</td>\n",
       "      <td>1,2</td>\n",
       "    </tr>\n",
       "    <tr>\n",
       "      <th>2</th>\n",
       "      <td>Åland Islands</td>\n",
       "      <td>2018</td>\n",
       "      <td>Total</td>\n",
       "      <td>Both Sexes</td>\n",
       "      <td>America, North</td>\n",
       "      <td>Migration flows: Administrative register</td>\n",
       "      <td>Final figure, complete</td>\n",
       "      <td>2020.0</td>\n",
       "      <td>3.0</td>\n",
       "      <td>1,2</td>\n",
       "    </tr>\n",
       "    <tr>\n",
       "      <th>3</th>\n",
       "      <td>Åland Islands</td>\n",
       "      <td>2018</td>\n",
       "      <td>Total</td>\n",
       "      <td>Both Sexes</td>\n",
       "      <td>America, South</td>\n",
       "      <td>Migration flows: Administrative register</td>\n",
       "      <td>Final figure, complete</td>\n",
       "      <td>2020.0</td>\n",
       "      <td>6.0</td>\n",
       "      <td>1,2</td>\n",
       "    </tr>\n",
       "    <tr>\n",
       "      <th>4</th>\n",
       "      <td>Åland Islands</td>\n",
       "      <td>2018</td>\n",
       "      <td>Total</td>\n",
       "      <td>Both Sexes</td>\n",
       "      <td>Albania</td>\n",
       "      <td>Migration flows: Administrative register</td>\n",
       "      <td>Final figure, complete</td>\n",
       "      <td>2020.0</td>\n",
       "      <td>6.0</td>\n",
       "      <td>1,2</td>\n",
       "    </tr>\n",
       "  </tbody>\n",
       "</table>\n",
       "</div>"
      ],
      "text/plain": [
       "  Country or Area  Year   Area         Sex  \\\n",
       "0   Åland Islands  2018  Total  Both Sexes   \n",
       "1   Åland Islands  2018  Total  Both Sexes   \n",
       "2   Åland Islands  2018  Total  Both Sexes   \n",
       "3   Åland Islands  2018  Total  Both Sexes   \n",
       "4   Åland Islands  2018  Total  Both Sexes   \n",
       "\n",
       "  Country of previous usual residence  \\\n",
       "0                               Total   \n",
       "1                              AFRICA   \n",
       "2                      America, North   \n",
       "3                      America, South   \n",
       "4                             Albania   \n",
       "\n",
       "                                Record Type             Reliability  \\\n",
       "0  Migration flows: Administrative register  Final figure, complete   \n",
       "1  Migration flows: Administrative register  Final figure, complete   \n",
       "2  Migration flows: Administrative register  Final figure, complete   \n",
       "3  Migration flows: Administrative register  Final figure, complete   \n",
       "4  Migration flows: Administrative register  Final figure, complete   \n",
       "\n",
       "   Source Year   Value Value Footnotes  \n",
       "0       2020.0  1080.0             1,2  \n",
       "1       2020.0     3.0             1,2  \n",
       "2       2020.0     3.0             1,2  \n",
       "3       2020.0     6.0             1,2  \n",
       "4       2020.0     6.0             1,2  "
      ]
     },
     "execution_count": 10,
     "metadata": {},
     "output_type": "execute_result"
    }
   ],
   "source": [
    "migration.head()"
   ]
  },
  {
   "cell_type": "code",
   "execution_count": 11,
   "metadata": {},
   "outputs": [
    {
     "name": "stdout",
     "output_type": "stream",
     "text": [
      "<class 'pandas.core.frame.DataFrame'>\n",
      "RangeIndex: 38702 entries, 0 to 38701\n",
      "Data columns (total 10 columns):\n",
      " #   Column                               Non-Null Count  Dtype  \n",
      "---  ------                               --------------  -----  \n",
      " 0   Country or Area                      38702 non-null  object \n",
      " 1   Year                                 38702 non-null  object \n",
      " 2   Area                                 38657 non-null  object \n",
      " 3   Sex                                  38657 non-null  object \n",
      " 4   Country of previous usual residence  38657 non-null  object \n",
      " 5   Record Type                          38657 non-null  object \n",
      " 6   Reliability                          38657 non-null  object \n",
      " 7   Source Year                          38657 non-null  float64\n",
      " 8   Value                                38657 non-null  float64\n",
      " 9   Value Footnotes                      29417 non-null  object \n",
      "dtypes: float64(2), object(8)\n",
      "memory usage: 3.0+ MB\n"
     ]
    }
   ],
   "source": [
    "migration.info()"
   ]
  }
 ],
 "metadata": {
  "kernelspec": {
   "display_name": "migration_flows",
   "language": "python",
   "name": "migration_flows"
  },
  "language_info": {
   "codemirror_mode": {
    "name": "ipython",
    "version": 3
   },
   "file_extension": ".py",
   "mimetype": "text/x-python",
   "name": "python",
   "nbconvert_exporter": "python",
   "pygments_lexer": "ipython3",
   "version": "3.8.5"
  }
 },
 "nbformat": 4,
 "nbformat_minor": 4
}
