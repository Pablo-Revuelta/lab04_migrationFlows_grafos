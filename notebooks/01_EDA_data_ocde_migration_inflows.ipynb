{
 "cells": [
  {
   "cell_type": "markdown",
   "metadata": {},
   "source": [
    "# Título: Análisis de grafos para fjujos migratorios"
   ]
  },
  {
   "cell_type": "markdown",
   "metadata": {},
   "source": [
    "### Miembros: Pablo Revuelta Stobbs, Matías Corredoira"
   ]
  },
  {
   "cell_type": "markdown",
   "metadata": {},
   "source": [
    "### Fecha: 15/01/2021"
   ]
  },
  {
   "cell_type": "markdown",
   "metadata": {},
   "source": [
    "### EDA "
   ]
  },
  {
   "cell_type": "markdown",
   "metadata": {},
   "source": [
    "Para este trabajo se coge una base de datos perteneciente a la OCDE par obtener los datos que reflejan diferentes flujos migratorios para un periodo de 20 años."
   ]
  },
  {
   "cell_type": "markdown",
   "metadata": {},
   "source": [
    "Data to do a grafo analysis of the migration inflows, giving information of the nationality of the migrators."
   ]
  },
  {
   "cell_type": "code",
   "execution_count": 1,
   "metadata": {},
   "outputs": [],
   "source": [
    "import pandas as pd\n",
    "import numpy as np\n",
    "import matplotlib.pyplot as plt\n",
    "import seaborn as sns\n",
    "import xlrd"
   ]
  },
  {
   "cell_type": "code",
   "execution_count": 2,
   "metadata": {},
   "outputs": [],
   "source": [
    "file1 = '../data/MIG_28122020_migration_inflows.csv'"
   ]
  },
  {
   "cell_type": "code",
   "execution_count": 3,
   "metadata": {
    "scrolled": false
   },
   "outputs": [
    {
     "name": "stderr",
     "output_type": "stream",
     "text": [
      "C:\\Users\\matia\\Anaconda3\\envs\\migration_flows\\lib\\site-packages\\IPython\\core\\interactiveshell.py:3146: DtypeWarning: Columns (11,12) have mixed types.Specify dtype option on import or set low_memory=False.\n",
      "  interactivity=interactivity, compiler=compiler, result=result)\n"
     ]
    }
   ],
   "source": [
    "migration = pd.read_csv(file1)"
   ]
  },
  {
   "cell_type": "code",
   "execution_count": 4,
   "metadata": {
    "scrolled": true
   },
   "outputs": [
    {
     "data": {
      "text/html": [
       "<div>\n",
       "<style scoped>\n",
       "    .dataframe tbody tr th:only-of-type {\n",
       "        vertical-align: middle;\n",
       "    }\n",
       "\n",
       "    .dataframe tbody tr th {\n",
       "        vertical-align: top;\n",
       "    }\n",
       "\n",
       "    .dataframe thead th {\n",
       "        text-align: right;\n",
       "    }\n",
       "</style>\n",
       "<table border=\"1\" class=\"dataframe\">\n",
       "  <thead>\n",
       "    <tr style=\"text-align: right;\">\n",
       "      <th></th>\n",
       "      <th>CO2</th>\n",
       "      <th>Country of birth/nationality</th>\n",
       "      <th>VAR</th>\n",
       "      <th>Variable</th>\n",
       "      <th>GEN</th>\n",
       "      <th>Gender</th>\n",
       "      <th>COU</th>\n",
       "      <th>Country</th>\n",
       "      <th>YEA</th>\n",
       "      <th>Year</th>\n",
       "      <th>Value</th>\n",
       "      <th>Flag Codes</th>\n",
       "      <th>Flags</th>\n",
       "    </tr>\n",
       "  </thead>\n",
       "  <tbody>\n",
       "    <tr>\n",
       "      <th>0</th>\n",
       "      <td>AFG</td>\n",
       "      <td>Afghanistan</td>\n",
       "      <td>B11</td>\n",
       "      <td>Inflows of foreign population by nationality</td>\n",
       "      <td>TOT</td>\n",
       "      <td>Total</td>\n",
       "      <td>AUS</td>\n",
       "      <td>Australia</td>\n",
       "      <td>2000</td>\n",
       "      <td>2000</td>\n",
       "      <td>887.0</td>\n",
       "      <td>NaN</td>\n",
       "      <td>NaN</td>\n",
       "    </tr>\n",
       "    <tr>\n",
       "      <th>1</th>\n",
       "      <td>AFG</td>\n",
       "      <td>Afghanistan</td>\n",
       "      <td>B11</td>\n",
       "      <td>Inflows of foreign population by nationality</td>\n",
       "      <td>TOT</td>\n",
       "      <td>Total</td>\n",
       "      <td>AUS</td>\n",
       "      <td>Australia</td>\n",
       "      <td>2001</td>\n",
       "      <td>2001</td>\n",
       "      <td>456.0</td>\n",
       "      <td>NaN</td>\n",
       "      <td>NaN</td>\n",
       "    </tr>\n",
       "    <tr>\n",
       "      <th>2</th>\n",
       "      <td>AFG</td>\n",
       "      <td>Afghanistan</td>\n",
       "      <td>B11</td>\n",
       "      <td>Inflows of foreign population by nationality</td>\n",
       "      <td>TOT</td>\n",
       "      <td>Total</td>\n",
       "      <td>AUS</td>\n",
       "      <td>Australia</td>\n",
       "      <td>2002</td>\n",
       "      <td>2002</td>\n",
       "      <td>660.0</td>\n",
       "      <td>NaN</td>\n",
       "      <td>NaN</td>\n",
       "    </tr>\n",
       "    <tr>\n",
       "      <th>3</th>\n",
       "      <td>AFG</td>\n",
       "      <td>Afghanistan</td>\n",
       "      <td>B11</td>\n",
       "      <td>Inflows of foreign population by nationality</td>\n",
       "      <td>TOT</td>\n",
       "      <td>Total</td>\n",
       "      <td>AUS</td>\n",
       "      <td>Australia</td>\n",
       "      <td>2003</td>\n",
       "      <td>2003</td>\n",
       "      <td>1015.0</td>\n",
       "      <td>NaN</td>\n",
       "      <td>NaN</td>\n",
       "    </tr>\n",
       "    <tr>\n",
       "      <th>4</th>\n",
       "      <td>AFG</td>\n",
       "      <td>Afghanistan</td>\n",
       "      <td>B11</td>\n",
       "      <td>Inflows of foreign population by nationality</td>\n",
       "      <td>TOT</td>\n",
       "      <td>Total</td>\n",
       "      <td>AUS</td>\n",
       "      <td>Australia</td>\n",
       "      <td>2004</td>\n",
       "      <td>2004</td>\n",
       "      <td>1340.0</td>\n",
       "      <td>NaN</td>\n",
       "      <td>NaN</td>\n",
       "    </tr>\n",
       "  </tbody>\n",
       "</table>\n",
       "</div>"
      ],
      "text/plain": [
       "   CO2 Country of birth/nationality  VAR  \\\n",
       "0  AFG                  Afghanistan  B11   \n",
       "1  AFG                  Afghanistan  B11   \n",
       "2  AFG                  Afghanistan  B11   \n",
       "3  AFG                  Afghanistan  B11   \n",
       "4  AFG                  Afghanistan  B11   \n",
       "\n",
       "                                       Variable  GEN Gender  COU    Country  \\\n",
       "0  Inflows of foreign population by nationality  TOT  Total  AUS  Australia   \n",
       "1  Inflows of foreign population by nationality  TOT  Total  AUS  Australia   \n",
       "2  Inflows of foreign population by nationality  TOT  Total  AUS  Australia   \n",
       "3  Inflows of foreign population by nationality  TOT  Total  AUS  Australia   \n",
       "4  Inflows of foreign population by nationality  TOT  Total  AUS  Australia   \n",
       "\n",
       "    YEA  Year   Value Flag Codes Flags  \n",
       "0  2000  2000   887.0        NaN   NaN  \n",
       "1  2001  2001   456.0        NaN   NaN  \n",
       "2  2002  2002   660.0        NaN   NaN  \n",
       "3  2003  2003  1015.0        NaN   NaN  \n",
       "4  2004  2004  1340.0        NaN   NaN  "
      ]
     },
     "execution_count": 4,
     "metadata": {},
     "output_type": "execute_result"
    }
   ],
   "source": [
    "migration.head()"
   ]
  },
  {
   "cell_type": "code",
   "execution_count": 5,
   "metadata": {
    "scrolled": false
   },
   "outputs": [
    {
     "name": "stdout",
     "output_type": "stream",
     "text": [
      "<class 'pandas.core.frame.DataFrame'>\n",
      "RangeIndex: 477776 entries, 0 to 477775\n",
      "Data columns (total 13 columns):\n",
      " #   Column                        Non-Null Count   Dtype  \n",
      "---  ------                        --------------   -----  \n",
      " 0   CO2                           477776 non-null  object \n",
      " 1   Country of birth/nationality  477776 non-null  object \n",
      " 2   VAR                           477776 non-null  object \n",
      " 3   Variable                      477776 non-null  object \n",
      " 4   GEN                           477776 non-null  object \n",
      " 5   Gender                        477776 non-null  object \n",
      " 6   COU                           477776 non-null  object \n",
      " 7   Country                       477776 non-null  object \n",
      " 8   YEA                           477776 non-null  int64  \n",
      " 9   Year                          477776 non-null  int64  \n",
      " 10  Value                         477749 non-null  float64\n",
      " 11  Flag Codes                    27 non-null      object \n",
      " 12  Flags                         27 non-null      object \n",
      "dtypes: float64(1), int64(2), object(10)\n",
      "memory usage: 47.4+ MB\n"
     ]
    }
   ],
   "source": [
    "migration.info()"
   ]
  },
  {
   "cell_type": "code",
   "execution_count": 6,
   "metadata": {},
   "outputs": [
    {
     "data": {
      "text/plain": [
       "array(['AFG', 'ALB', 'DZA', 'AND', 'AGO', 'ATG', 'ARG', 'ARM', 'AUS',\n",
       "       'AUT', 'AZE', 'BHS', 'BHR', 'BGD', 'BRB', 'BLR', 'BEL', 'BLZ',\n",
       "       'BEN', 'BMU', 'BTN', 'BOL', 'BIH', 'BWA', 'BRA', 'BRN', 'BGR',\n",
       "       'BFA', 'BDI', 'KHM', 'CMR', 'CAN', 'CPV', 'CAF', 'TCD', 'CHL',\n",
       "       'CHN', 'COL', 'COM', 'COG', 'COK', 'CRI', 'CIV', 'HRV', 'CUB',\n",
       "       'CYP', 'CZE', 'PRK', 'COD', 'DNK', 'DJI', 'DMA', 'DOM', 'ECU',\n",
       "       'EGY', 'SLV', 'GNQ', 'ERI', 'EST', 'ETH', 'FJI', 'FIN', 'CSK',\n",
       "       'SUN', 'YUCS', 'FRA', 'GAB', 'GMB', 'GEO', 'DEU', 'GHA', 'GRC',\n",
       "       'GRD', 'GUM', 'GTM', 'GIN', 'GNB', 'GUY', 'HTI', 'HND', 'HKG',\n",
       "       'HUN', 'ISL', 'IND', 'IDN', 'IRN', 'IRQ', 'IRL', 'ISR', 'ITA',\n",
       "       'JAM', 'JPN', 'JOR', 'KAZ', 'KEN', 'KIR', 'KOR', 'KWT', 'KGZ',\n",
       "       'LAO', 'LVA', 'LBN', 'LSO', 'LBR', 'LBY', 'LIE', 'LTU', 'LUX',\n",
       "       'MAC', 'MKD', 'MDG', 'MWI', 'MYS', 'MDV', 'MLI', 'MLT', 'MHL',\n",
       "       'MRT', 'MUS', 'MEX', 'FSM', 'MDA', 'MCO', 'MNG', 'MNE', 'MAR',\n",
       "       'MOZ', 'MMR', 'NAM', 'NRU', 'NPL', 'NLD', 'NZL', 'NIC', 'NER',\n",
       "       'NGA', 'NIU', 'NOR', 'OMN', 'PAK', 'PLW', 'PSE', 'PAN', 'PNG',\n",
       "       'PRY', 'PER', 'PHL', 'POL', 'PRT', 'PRI', 'QAT', 'ROU', 'RUS',\n",
       "       'RWA', 'KNA', 'LCA', 'VCT', 'WSM', 'SMR', 'STP', 'SAU', 'SEN',\n",
       "       'SCG', 'SYC', 'SLE', 'SRB', 'SGP', 'SVK', 'SVN', 'SLB', 'SOM',\n",
       "       'ZAF', 'ESP', 'LKA', 'SDN', 'SUR', 'SWZ', 'SWE', 'CHE', 'SYR',\n",
       "       'TWN', 'TJK', 'TZA', 'THA', 'TLS', 'TGO', 'TKL', 'TON', 'TTO',\n",
       "       'TUN', 'TUR', 'TKM', 'TUV', 'UGA', 'UKR', 'ARE', 'GBR', 'USA',\n",
       "       'URY', 'UZB', 'VUT', 'VEN', 'VNM', 'YEM', 'ZMB', 'ZWE', 'TOT',\n",
       "       'NS', 'UUU', 'YYY'], dtype=object)"
      ]
     },
     "execution_count": 6,
     "metadata": {},
     "output_type": "execute_result"
    }
   ],
   "source": [
    "migration.CO2.unique()"
   ]
  },
  {
   "cell_type": "code",
   "execution_count": 7,
   "metadata": {
    "scrolled": false
   },
   "outputs": [
    {
     "data": {
      "text/plain": [
       "array(['Afghanistan', 'Albania', 'Algeria', 'Andorra', 'Angola',\n",
       "       'Antigua and Barbuda', 'Argentina', 'Armenia', 'Australia',\n",
       "       'Austria', 'Azerbaijan', 'Bahamas', 'Bahrain', 'Bangladesh',\n",
       "       'Barbados', 'Belarus', 'Belgium', 'Belize', 'Benin', 'Bermuda',\n",
       "       'Bhutan', 'Bolivia', 'Bosnia and Herzegovina', 'Botswana',\n",
       "       'Brazil', 'Brunei Darussalam', 'Bulgaria', 'Burkina Faso',\n",
       "       'Burundi', 'Cambodia', 'Cameroon', 'Canada', 'Cape Verde',\n",
       "       'Central African Republic', 'Chad', 'Chile', 'China', 'Colombia',\n",
       "       'Comoros', 'Congo', 'Cook Islands', 'Costa Rica', \"Côte d'Ivoire\",\n",
       "       'Croatia', 'Cuba', 'Cyprus', 'Czech Republic',\n",
       "       \"Democratic People's Republic of Korea\",\n",
       "       'Democratic Republic of the Congo', 'Denmark', 'Djibouti',\n",
       "       'Dominica', 'Dominican Republic', 'Ecuador', 'Egypt',\n",
       "       'El Salvador', 'Equatorial Guinea', 'Eritrea', 'Estonia',\n",
       "       'Ethiopia', 'Fiji', 'Finland', 'Former Czechoslovakia',\n",
       "       'Former USSR', 'Former Yugoslavia', 'France', 'Gabon', 'Gambia',\n",
       "       'Georgia', 'Germany', 'Ghana', 'Greece', 'Grenada', 'Guam',\n",
       "       'Guatemala', 'Guinea', 'Guinea-Bissau', 'Guyana', 'Haiti',\n",
       "       'Honduras', 'Hong Kong, China', 'Hungary', 'Iceland', 'India',\n",
       "       'Indonesia', 'Iran', 'Iraq', 'Ireland', 'Israel', 'Italy',\n",
       "       'Jamaica', 'Japan', 'Jordan', 'Kazakhstan', 'Kenya', 'Kiribati',\n",
       "       'Korea', 'Kuwait', 'Kyrgyzstan', 'Laos', 'Latvia', 'Lebanon',\n",
       "       'Lesotho', 'Liberia', 'Libya', 'Liechtenstein', 'Lithuania',\n",
       "       'Luxembourg', 'Macau', 'North Macedonia', 'Madagascar', 'Malawi',\n",
       "       'Malaysia', 'Maldives', 'Mali', 'Malta', 'Marshall Islands',\n",
       "       'Mauritania', 'Mauritius', 'Mexico', 'Micronesia', 'Moldova',\n",
       "       'Monaco', 'Mongolia', 'Montenegro', 'Morocco', 'Mozambique',\n",
       "       'Myanmar', 'Namibia', 'Nauru', 'Nepal', 'Netherlands',\n",
       "       'New Zealand', 'Nicaragua', 'Niger', 'Nigeria', 'Niue', 'Norway',\n",
       "       'Oman', 'Pakistan', 'Palau', 'West Bank and Gaza Strip', 'Panama',\n",
       "       'Papua New Guinea', 'Paraguay', 'Peru', 'Philippines', 'Poland',\n",
       "       'Portugal', 'Puerto Rico', 'Qatar', 'Romania', 'Russia', 'Rwanda',\n",
       "       'Saint Kitts and Nevis', 'Saint Lucia',\n",
       "       'Saint Vincent and the Grenadines', 'Samoa', 'San Marino',\n",
       "       'Sao Tome and Principe', 'Saudi Arabia', 'Senegal',\n",
       "       'Serbia and Montenegro', 'Seychelles', 'Sierra Leone', 'Serbia',\n",
       "       'Singapore', 'Slovak Republic', 'Slovenia', 'Solomon Islands',\n",
       "       'Somalia', 'South Africa', 'Spain', 'Sri Lanka', 'Sudan',\n",
       "       'Suriname', 'Swaziland', 'Sweden', 'Switzerland', 'Syria',\n",
       "       'Chinese Taipei', 'Tajikistan', 'Tanzania', 'Thailand',\n",
       "       'Timor-Leste', 'Togo', 'Tokelau', 'Tonga', 'Trinidad and Tobago',\n",
       "       'Tunisia', 'Turkey', 'Turkmenistan', 'Tuvalu', 'Uganda', 'Ukraine',\n",
       "       'United Arab Emirates', 'United Kingdom', 'United States',\n",
       "       'Uruguay', 'Uzbekistan', 'Vanuatu', 'Venezuela', 'Viet Nam',\n",
       "       'Yemen', 'Zambia', 'Zimbabwe', 'Total', 'Not stated', 'Unknown',\n",
       "       'Stateless'], dtype=object)"
      ]
     },
     "execution_count": 7,
     "metadata": {},
     "output_type": "execute_result"
    }
   ],
   "source": [
    "migration['Country of birth/nationality'].unique()"
   ]
  },
  {
   "cell_type": "code",
   "execution_count": 8,
   "metadata": {},
   "outputs": [
    {
     "data": {
      "text/plain": [
       "array(['B11', 'B12', 'B14', 'B13', 'B15', 'B16'], dtype=object)"
      ]
     },
     "execution_count": 8,
     "metadata": {},
     "output_type": "execute_result"
    }
   ],
   "source": [
    "migration.VAR.unique()"
   ]
  },
  {
   "cell_type": "code",
   "execution_count": 9,
   "metadata": {},
   "outputs": [
    {
     "data": {
      "text/plain": [
       "array(['Inflows of foreign population by nationality',\n",
       "       'Outflows of foreign population by nationality',\n",
       "       'Stock of foreign-born population by country of birth',\n",
       "       'Inflows of asylum seekers by nationality',\n",
       "       'Stock of foreign population by nationality',\n",
       "       'Acquisition of nationality by country of former nationality'],\n",
       "      dtype=object)"
      ]
     },
     "execution_count": 9,
     "metadata": {},
     "output_type": "execute_result"
    }
   ],
   "source": [
    "migration.Variable.unique()"
   ]
  },
  {
   "cell_type": "code",
   "execution_count": 10,
   "metadata": {},
   "outputs": [
    {
     "data": {
      "text/plain": [
       "array(['TOT'], dtype=object)"
      ]
     },
     "execution_count": 10,
     "metadata": {},
     "output_type": "execute_result"
    }
   ],
   "source": [
    "migration.GEN.unique()"
   ]
  },
  {
   "cell_type": "code",
   "execution_count": 11,
   "metadata": {
    "scrolled": true
   },
   "outputs": [
    {
     "data": {
      "text/plain": [
       "array(['Total'], dtype=object)"
      ]
     },
     "execution_count": 11,
     "metadata": {},
     "output_type": "execute_result"
    }
   ],
   "source": [
    "migration.Gender.unique()"
   ]
  },
  {
   "cell_type": "code",
   "execution_count": 12,
   "metadata": {},
   "outputs": [
    {
     "data": {
      "text/plain": [
       "array(['AUS', 'AUT', 'BEL', 'CAN', 'CZE', 'DNK', 'FIN', 'FRA', 'DEU',\n",
       "       'GRC', 'HUN', 'ISL', 'IRL', 'ITA', 'JPN', 'KOR', 'LUX', 'MEX',\n",
       "       'NLD', 'NZL', 'NOR', 'POL', 'SVK', 'ESP', 'SWE', 'CHE', 'TUR',\n",
       "       'GBR', 'USA', 'CHL', 'EST', 'SVN', 'PRT', 'ISR', 'LVA'],\n",
       "      dtype=object)"
      ]
     },
     "execution_count": 12,
     "metadata": {},
     "output_type": "execute_result"
    }
   ],
   "source": [
    "migration.COU.unique()"
   ]
  },
  {
   "cell_type": "code",
   "execution_count": 13,
   "metadata": {},
   "outputs": [
    {
     "data": {
      "text/plain": [
       "array(['Australia', 'Austria', 'Belgium', 'Canada', 'Czech Republic',\n",
       "       'Denmark', 'Finland', 'France', 'Germany', 'Greece', 'Hungary',\n",
       "       'Iceland', 'Ireland', 'Italy', 'Japan', 'Korea', 'Luxembourg',\n",
       "       'Mexico', 'Netherlands', 'New Zealand', 'Norway', 'Poland',\n",
       "       'Slovak Republic', 'Spain', 'Sweden', 'Switzerland', 'Turkey',\n",
       "       'United Kingdom', 'United States', 'Chile', 'Estonia', 'Slovenia',\n",
       "       'Portugal', 'Israel', 'Latvia'], dtype=object)"
      ]
     },
     "execution_count": 13,
     "metadata": {},
     "output_type": "execute_result"
    }
   ],
   "source": [
    "migration.Country.unique()"
   ]
  },
  {
   "cell_type": "code",
   "execution_count": 14,
   "metadata": {},
   "outputs": [
    {
     "data": {
      "text/plain": [
       "array([2000, 2001, 2002, 2003, 2004, 2005, 2006, 2007, 2008, 2009, 2010,\n",
       "       2011, 2012, 2013, 2014, 2015, 2016, 2017, 2018, 2019, 2020],\n",
       "      dtype=int64)"
      ]
     },
     "execution_count": 14,
     "metadata": {},
     "output_type": "execute_result"
    }
   ],
   "source": [
    "migration.YEA.unique()"
   ]
  },
  {
   "cell_type": "code",
   "execution_count": 15,
   "metadata": {
    "scrolled": true
   },
   "outputs": [
    {
     "data": {
      "text/plain": [
       "array([2000, 2001, 2002, 2003, 2004, 2005, 2006, 2007, 2008, 2009, 2010,\n",
       "       2011, 2012, 2013, 2014, 2015, 2016, 2017, 2018, 2019, 2020],\n",
       "      dtype=int64)"
      ]
     },
     "execution_count": 15,
     "metadata": {},
     "output_type": "execute_result"
    }
   ],
   "source": [
    "migration.Year.unique()"
   ]
  },
  {
   "cell_type": "code",
   "execution_count": 16,
   "metadata": {
    "scrolled": true
   },
   "outputs": [
    {
     "data": {
      "text/plain": [
       "array([nan, 'e'], dtype=object)"
      ]
     },
     "execution_count": 16,
     "metadata": {},
     "output_type": "execute_result"
    }
   ],
   "source": [
    "migration['Flag Codes'].unique()"
   ]
  },
  {
   "cell_type": "code",
   "execution_count": 17,
   "metadata": {},
   "outputs": [
    {
     "data": {
      "text/plain": [
       "array([nan, 'Estimated value'], dtype=object)"
      ]
     },
     "execution_count": 17,
     "metadata": {},
     "output_type": "execute_result"
    }
   ],
   "source": [
    "migration.Flags.unique()"
   ]
  },
  {
   "cell_type": "code",
   "execution_count": 18,
   "metadata": {},
   "outputs": [],
   "source": [
    "migration_inflows_raw = migration[migration.Variable == 'Inflows of foreign population by nationality']"
   ]
  },
  {
   "cell_type": "code",
   "execution_count": 19,
   "metadata": {
    "scrolled": false
   },
   "outputs": [
    {
     "name": "stdout",
     "output_type": "stream",
     "text": [
      "<class 'pandas.core.frame.DataFrame'>\n",
      "Int64Index: 96045 entries, 0 to 475074\n",
      "Data columns (total 13 columns):\n",
      " #   Column                        Non-Null Count  Dtype  \n",
      "---  ------                        --------------  -----  \n",
      " 0   CO2                           96045 non-null  object \n",
      " 1   Country of birth/nationality  96045 non-null  object \n",
      " 2   VAR                           96045 non-null  object \n",
      " 3   Variable                      96045 non-null  object \n",
      " 4   GEN                           96045 non-null  object \n",
      " 5   Gender                        96045 non-null  object \n",
      " 6   COU                           96045 non-null  object \n",
      " 7   Country                       96045 non-null  object \n",
      " 8   YEA                           96045 non-null  int64  \n",
      " 9   Year                          96045 non-null  int64  \n",
      " 10  Value                         96018 non-null  float64\n",
      " 11  Flag Codes                    27 non-null     object \n",
      " 12  Flags                         27 non-null     object \n",
      "dtypes: float64(1), int64(2), object(10)\n",
      "memory usage: 10.3+ MB\n"
     ]
    }
   ],
   "source": [
    "migration_inflows_raw.info()"
   ]
  },
  {
   "cell_type": "code",
   "execution_count": 20,
   "metadata": {},
   "outputs": [
    {
     "data": {
      "text/plain": [
       "array(['Afghanistan', 'Albania', 'Algeria', 'Andorra', 'Angola',\n",
       "       'Antigua and Barbuda', 'Argentina', 'Armenia', 'Australia',\n",
       "       'Austria', 'Azerbaijan', 'Bahamas', 'Bahrain', 'Bangladesh',\n",
       "       'Barbados', 'Belarus', 'Belgium', 'Belize', 'Benin', 'Bermuda',\n",
       "       'Bhutan', 'Bolivia', 'Bosnia and Herzegovina', 'Botswana',\n",
       "       'Brazil', 'Brunei Darussalam', 'Bulgaria', 'Burkina Faso',\n",
       "       'Burundi', 'Cambodia', 'Cameroon', 'Canada', 'Cape Verde',\n",
       "       'Central African Republic', 'Chad', 'Chile', 'China', 'Colombia',\n",
       "       'Comoros', 'Congo', 'Cook Islands', 'Costa Rica', \"Côte d'Ivoire\",\n",
       "       'Croatia', 'Cuba', 'Cyprus', 'Czech Republic',\n",
       "       \"Democratic People's Republic of Korea\",\n",
       "       'Democratic Republic of the Congo', 'Denmark', 'Djibouti',\n",
       "       'Dominica', 'Dominican Republic', 'Ecuador', 'Egypt',\n",
       "       'El Salvador', 'Equatorial Guinea', 'Eritrea', 'Estonia',\n",
       "       'Ethiopia', 'Fiji', 'Finland', 'Former Czechoslovakia',\n",
       "       'Former USSR', 'Former Yugoslavia', 'France', 'Gabon', 'Gambia',\n",
       "       'Georgia', 'Germany', 'Ghana', 'Greece', 'Grenada', 'Guam',\n",
       "       'Guatemala', 'Guinea', 'Guinea-Bissau', 'Guyana', 'Haiti',\n",
       "       'Honduras', 'Hong Kong, China', 'Hungary', 'Iceland', 'India',\n",
       "       'Indonesia', 'Iran', 'Iraq', 'Ireland', 'Israel', 'Italy',\n",
       "       'Jamaica', 'Japan', 'Jordan', 'Kazakhstan', 'Kenya', 'Kiribati',\n",
       "       'Korea', 'Kuwait', 'Kyrgyzstan', 'Laos', 'Latvia', 'Lebanon',\n",
       "       'Lesotho', 'Liberia', 'Libya', 'Liechtenstein', 'Lithuania',\n",
       "       'Luxembourg', 'Macau', 'North Macedonia', 'Madagascar', 'Malawi',\n",
       "       'Malaysia', 'Maldives', 'Mali', 'Malta', 'Marshall Islands',\n",
       "       'Mauritania', 'Mauritius', 'Mexico', 'Micronesia', 'Moldova',\n",
       "       'Monaco', 'Mongolia', 'Montenegro', 'Morocco', 'Mozambique',\n",
       "       'Myanmar', 'Namibia', 'Nauru', 'Nepal', 'Netherlands',\n",
       "       'New Zealand', 'Nicaragua', 'Niger', 'Nigeria', 'Niue', 'Norway',\n",
       "       'Oman', 'Pakistan', 'Palau', 'West Bank and Gaza Strip', 'Panama',\n",
       "       'Papua New Guinea', 'Paraguay', 'Peru', 'Philippines', 'Poland',\n",
       "       'Portugal', 'Puerto Rico', 'Qatar', 'Romania', 'Russia', 'Rwanda',\n",
       "       'Saint Kitts and Nevis', 'Saint Lucia',\n",
       "       'Saint Vincent and the Grenadines', 'Samoa', 'San Marino',\n",
       "       'Sao Tome and Principe', 'Saudi Arabia', 'Senegal',\n",
       "       'Serbia and Montenegro', 'Seychelles', 'Sierra Leone', 'Serbia',\n",
       "       'Singapore', 'Slovak Republic', 'Slovenia', 'Solomon Islands',\n",
       "       'Somalia', 'South Africa', 'Spain', 'Sri Lanka', 'Sudan',\n",
       "       'Suriname', 'Swaziland', 'Sweden', 'Switzerland', 'Syria',\n",
       "       'Chinese Taipei', 'Tajikistan', 'Tanzania', 'Thailand',\n",
       "       'Timor-Leste', 'Togo', 'Tokelau', 'Tonga', 'Trinidad and Tobago',\n",
       "       'Tunisia', 'Turkey', 'Turkmenistan', 'Tuvalu', 'Uganda', 'Ukraine',\n",
       "       'United Arab Emirates', 'United Kingdom', 'United States',\n",
       "       'Uruguay', 'Uzbekistan', 'Vanuatu', 'Venezuela', 'Viet Nam',\n",
       "       'Yemen', 'Zambia', 'Zimbabwe', 'Total', 'Not stated', 'Unknown',\n",
       "       'Stateless'], dtype=object)"
      ]
     },
     "execution_count": 20,
     "metadata": {},
     "output_type": "execute_result"
    }
   ],
   "source": [
    "migration_inflows_raw['Country of birth/nationality'].unique()"
   ]
  },
  {
   "cell_type": "code",
   "execution_count": 21,
   "metadata": {},
   "outputs": [
    {
     "data": {
      "text/plain": [
       "array(['AFG', 'ALB', 'DZA', 'AND', 'AGO', 'ATG', 'ARG', 'ARM', 'AUS',\n",
       "       'AUT', 'AZE', 'BHS', 'BHR', 'BGD', 'BRB', 'BLR', 'BEL', 'BLZ',\n",
       "       'BEN', 'BMU', 'BTN', 'BOL', 'BIH', 'BWA', 'BRA', 'BRN', 'BGR',\n",
       "       'BFA', 'BDI', 'KHM', 'CMR', 'CAN', 'CPV', 'CAF', 'TCD', 'CHL',\n",
       "       'CHN', 'COL', 'COM', 'COG', 'COK', 'CRI', 'CIV', 'HRV', 'CUB',\n",
       "       'CYP', 'CZE', 'PRK', 'COD', 'DNK', 'DJI', 'DMA', 'DOM', 'ECU',\n",
       "       'EGY', 'SLV', 'GNQ', 'ERI', 'EST', 'ETH', 'FJI', 'FIN', 'CSK',\n",
       "       'SUN', 'YUCS', 'FRA', 'GAB', 'GMB', 'GEO', 'DEU', 'GHA', 'GRC',\n",
       "       'GRD', 'GUM', 'GTM', 'GIN', 'GNB', 'GUY', 'HTI', 'HND', 'HKG',\n",
       "       'HUN', 'ISL', 'IND', 'IDN', 'IRN', 'IRQ', 'IRL', 'ISR', 'ITA',\n",
       "       'JAM', 'JPN', 'JOR', 'KAZ', 'KEN', 'KIR', 'KOR', 'KWT', 'KGZ',\n",
       "       'LAO', 'LVA', 'LBN', 'LSO', 'LBR', 'LBY', 'LIE', 'LTU', 'LUX',\n",
       "       'MAC', 'MKD', 'MDG', 'MWI', 'MYS', 'MDV', 'MLI', 'MLT', 'MHL',\n",
       "       'MRT', 'MUS', 'MEX', 'FSM', 'MDA', 'MCO', 'MNG', 'MNE', 'MAR',\n",
       "       'MOZ', 'MMR', 'NAM', 'NRU', 'NPL', 'NLD', 'NZL', 'NIC', 'NER',\n",
       "       'NGA', 'NIU', 'NOR', 'OMN', 'PAK', 'PLW', 'PSE', 'PAN', 'PNG',\n",
       "       'PRY', 'PER', 'PHL', 'POL', 'PRT', 'PRI', 'QAT', 'ROU', 'RUS',\n",
       "       'RWA', 'KNA', 'LCA', 'VCT', 'WSM', 'SMR', 'STP', 'SAU', 'SEN',\n",
       "       'SCG', 'SYC', 'SLE', 'SRB', 'SGP', 'SVK', 'SVN', 'SLB', 'SOM',\n",
       "       'ZAF', 'ESP', 'LKA', 'SDN', 'SUR', 'SWZ', 'SWE', 'CHE', 'SYR',\n",
       "       'TWN', 'TJK', 'TZA', 'THA', 'TLS', 'TGO', 'TKL', 'TON', 'TTO',\n",
       "       'TUN', 'TUR', 'TKM', 'TUV', 'UGA', 'UKR', 'ARE', 'GBR', 'USA',\n",
       "       'URY', 'UZB', 'VUT', 'VEN', 'VNM', 'YEM', 'ZMB', 'ZWE', 'TOT',\n",
       "       'NS', 'UUU', 'YYY'], dtype=object)"
      ]
     },
     "execution_count": 21,
     "metadata": {},
     "output_type": "execute_result"
    }
   ],
   "source": [
    "migration_inflows_raw.CO2.unique()"
   ]
  },
  {
   "cell_type": "code",
   "execution_count": 22,
   "metadata": {},
   "outputs": [
    {
     "data": {
      "text/html": [
       "<div>\n",
       "<style scoped>\n",
       "    .dataframe tbody tr th:only-of-type {\n",
       "        vertical-align: middle;\n",
       "    }\n",
       "\n",
       "    .dataframe tbody tr th {\n",
       "        vertical-align: top;\n",
       "    }\n",
       "\n",
       "    .dataframe thead th {\n",
       "        text-align: right;\n",
       "    }\n",
       "</style>\n",
       "<table border=\"1\" class=\"dataframe\">\n",
       "  <thead>\n",
       "    <tr style=\"text-align: right;\">\n",
       "      <th></th>\n",
       "      <th>CO2</th>\n",
       "      <th>Country of birth/nationality</th>\n",
       "      <th>VAR</th>\n",
       "      <th>Variable</th>\n",
       "      <th>GEN</th>\n",
       "      <th>Gender</th>\n",
       "      <th>COU</th>\n",
       "      <th>Country</th>\n",
       "      <th>YEA</th>\n",
       "      <th>Year</th>\n",
       "      <th>Value</th>\n",
       "      <th>Flag Codes</th>\n",
       "      <th>Flags</th>\n",
       "    </tr>\n",
       "  </thead>\n",
       "  <tbody>\n",
       "    <tr>\n",
       "      <th>0</th>\n",
       "      <td>AFG</td>\n",
       "      <td>Afghanistan</td>\n",
       "      <td>B11</td>\n",
       "      <td>Inflows of foreign population by nationality</td>\n",
       "      <td>TOT</td>\n",
       "      <td>Total</td>\n",
       "      <td>AUS</td>\n",
       "      <td>Australia</td>\n",
       "      <td>2000</td>\n",
       "      <td>2000</td>\n",
       "      <td>887.0</td>\n",
       "      <td>NaN</td>\n",
       "      <td>NaN</td>\n",
       "    </tr>\n",
       "    <tr>\n",
       "      <th>1</th>\n",
       "      <td>AFG</td>\n",
       "      <td>Afghanistan</td>\n",
       "      <td>B11</td>\n",
       "      <td>Inflows of foreign population by nationality</td>\n",
       "      <td>TOT</td>\n",
       "      <td>Total</td>\n",
       "      <td>AUS</td>\n",
       "      <td>Australia</td>\n",
       "      <td>2001</td>\n",
       "      <td>2001</td>\n",
       "      <td>456.0</td>\n",
       "      <td>NaN</td>\n",
       "      <td>NaN</td>\n",
       "    </tr>\n",
       "    <tr>\n",
       "      <th>2</th>\n",
       "      <td>AFG</td>\n",
       "      <td>Afghanistan</td>\n",
       "      <td>B11</td>\n",
       "      <td>Inflows of foreign population by nationality</td>\n",
       "      <td>TOT</td>\n",
       "      <td>Total</td>\n",
       "      <td>AUS</td>\n",
       "      <td>Australia</td>\n",
       "      <td>2002</td>\n",
       "      <td>2002</td>\n",
       "      <td>660.0</td>\n",
       "      <td>NaN</td>\n",
       "      <td>NaN</td>\n",
       "    </tr>\n",
       "    <tr>\n",
       "      <th>3</th>\n",
       "      <td>AFG</td>\n",
       "      <td>Afghanistan</td>\n",
       "      <td>B11</td>\n",
       "      <td>Inflows of foreign population by nationality</td>\n",
       "      <td>TOT</td>\n",
       "      <td>Total</td>\n",
       "      <td>AUS</td>\n",
       "      <td>Australia</td>\n",
       "      <td>2003</td>\n",
       "      <td>2003</td>\n",
       "      <td>1015.0</td>\n",
       "      <td>NaN</td>\n",
       "      <td>NaN</td>\n",
       "    </tr>\n",
       "    <tr>\n",
       "      <th>4</th>\n",
       "      <td>AFG</td>\n",
       "      <td>Afghanistan</td>\n",
       "      <td>B11</td>\n",
       "      <td>Inflows of foreign population by nationality</td>\n",
       "      <td>TOT</td>\n",
       "      <td>Total</td>\n",
       "      <td>AUS</td>\n",
       "      <td>Australia</td>\n",
       "      <td>2004</td>\n",
       "      <td>2004</td>\n",
       "      <td>1340.0</td>\n",
       "      <td>NaN</td>\n",
       "      <td>NaN</td>\n",
       "    </tr>\n",
       "  </tbody>\n",
       "</table>\n",
       "</div>"
      ],
      "text/plain": [
       "   CO2 Country of birth/nationality  VAR  \\\n",
       "0  AFG                  Afghanistan  B11   \n",
       "1  AFG                  Afghanistan  B11   \n",
       "2  AFG                  Afghanistan  B11   \n",
       "3  AFG                  Afghanistan  B11   \n",
       "4  AFG                  Afghanistan  B11   \n",
       "\n",
       "                                       Variable  GEN Gender  COU    Country  \\\n",
       "0  Inflows of foreign population by nationality  TOT  Total  AUS  Australia   \n",
       "1  Inflows of foreign population by nationality  TOT  Total  AUS  Australia   \n",
       "2  Inflows of foreign population by nationality  TOT  Total  AUS  Australia   \n",
       "3  Inflows of foreign population by nationality  TOT  Total  AUS  Australia   \n",
       "4  Inflows of foreign population by nationality  TOT  Total  AUS  Australia   \n",
       "\n",
       "    YEA  Year   Value Flag Codes Flags  \n",
       "0  2000  2000   887.0        NaN   NaN  \n",
       "1  2001  2001   456.0        NaN   NaN  \n",
       "2  2002  2002   660.0        NaN   NaN  \n",
       "3  2003  2003  1015.0        NaN   NaN  \n",
       "4  2004  2004  1340.0        NaN   NaN  "
      ]
     },
     "execution_count": 22,
     "metadata": {},
     "output_type": "execute_result"
    }
   ],
   "source": [
    "migration_inflows_raw.head()"
   ]
  },
  {
   "cell_type": "code",
   "execution_count": 23,
   "metadata": {},
   "outputs": [],
   "source": [
    "index1 = migration_inflows_raw[migration_inflows_raw['CO2'] == \"TOT\"].index\n",
    "index2 = migration_inflows_raw[migration_inflows_raw['CO2'] == \"NS\"].index\n",
    "index3 = migration_inflows_raw[migration_inflows_raw['CO2'] == \"UUU\"].index\n",
    "index4 = migration_inflows_raw[migration_inflows_raw['CO2'] == \"YYY\"].index"
   ]
  },
  {
   "cell_type": "code",
   "execution_count": 24,
   "metadata": {},
   "outputs": [
    {
     "name": "stderr",
     "output_type": "stream",
     "text": [
      "C:\\Users\\matia\\Anaconda3\\envs\\migration_flows\\lib\\site-packages\\pandas\\core\\frame.py:4170: SettingWithCopyWarning: \n",
      "A value is trying to be set on a copy of a slice from a DataFrame\n",
      "\n",
      "See the caveats in the documentation: https://pandas.pydata.org/pandas-docs/stable/user_guide/indexing.html#returning-a-view-versus-a-copy\n",
      "  errors=errors,\n"
     ]
    }
   ],
   "source": [
    "migration_inflows_raw.drop(index1, inplace = True)\n",
    "migration_inflows_raw.drop(index2, inplace = True)\n",
    "migration_inflows_raw.drop(index3, inplace = True)\n",
    "migration_inflows_raw.drop(index4, inplace = True)"
   ]
  },
  {
   "cell_type": "code",
   "execution_count": 25,
   "metadata": {},
   "outputs": [
    {
     "data": {
      "text/plain": [
       "array(['AFG', 'ALB', 'DZA', 'AND', 'AGO', 'ATG', 'ARG', 'ARM', 'AUS',\n",
       "       'AUT', 'AZE', 'BHS', 'BHR', 'BGD', 'BRB', 'BLR', 'BEL', 'BLZ',\n",
       "       'BEN', 'BMU', 'BTN', 'BOL', 'BIH', 'BWA', 'BRA', 'BRN', 'BGR',\n",
       "       'BFA', 'BDI', 'KHM', 'CMR', 'CAN', 'CPV', 'CAF', 'TCD', 'CHL',\n",
       "       'CHN', 'COL', 'COM', 'COG', 'COK', 'CRI', 'CIV', 'HRV', 'CUB',\n",
       "       'CYP', 'CZE', 'PRK', 'COD', 'DNK', 'DJI', 'DMA', 'DOM', 'ECU',\n",
       "       'EGY', 'SLV', 'GNQ', 'ERI', 'EST', 'ETH', 'FJI', 'FIN', 'CSK',\n",
       "       'SUN', 'YUCS', 'FRA', 'GAB', 'GMB', 'GEO', 'DEU', 'GHA', 'GRC',\n",
       "       'GRD', 'GUM', 'GTM', 'GIN', 'GNB', 'GUY', 'HTI', 'HND', 'HKG',\n",
       "       'HUN', 'ISL', 'IND', 'IDN', 'IRN', 'IRQ', 'IRL', 'ISR', 'ITA',\n",
       "       'JAM', 'JPN', 'JOR', 'KAZ', 'KEN', 'KIR', 'KOR', 'KWT', 'KGZ',\n",
       "       'LAO', 'LVA', 'LBN', 'LSO', 'LBR', 'LBY', 'LIE', 'LTU', 'LUX',\n",
       "       'MAC', 'MKD', 'MDG', 'MWI', 'MYS', 'MDV', 'MLI', 'MLT', 'MHL',\n",
       "       'MRT', 'MUS', 'MEX', 'FSM', 'MDA', 'MCO', 'MNG', 'MNE', 'MAR',\n",
       "       'MOZ', 'MMR', 'NAM', 'NRU', 'NPL', 'NLD', 'NZL', 'NIC', 'NER',\n",
       "       'NGA', 'NIU', 'NOR', 'OMN', 'PAK', 'PLW', 'PSE', 'PAN', 'PNG',\n",
       "       'PRY', 'PER', 'PHL', 'POL', 'PRT', 'PRI', 'QAT', 'ROU', 'RUS',\n",
       "       'RWA', 'KNA', 'LCA', 'VCT', 'WSM', 'SMR', 'STP', 'SAU', 'SEN',\n",
       "       'SCG', 'SYC', 'SLE', 'SRB', 'SGP', 'SVK', 'SVN', 'SLB', 'SOM',\n",
       "       'ZAF', 'ESP', 'LKA', 'SDN', 'SUR', 'SWZ', 'SWE', 'CHE', 'SYR',\n",
       "       'TWN', 'TJK', 'TZA', 'THA', 'TLS', 'TGO', 'TKL', 'TON', 'TTO',\n",
       "       'TUN', 'TUR', 'TKM', 'TUV', 'UGA', 'UKR', 'ARE', 'GBR', 'USA',\n",
       "       'URY', 'UZB', 'VUT', 'VEN', 'VNM', 'YEM', 'ZMB', 'ZWE'],\n",
       "      dtype=object)"
      ]
     },
     "execution_count": 25,
     "metadata": {},
     "output_type": "execute_result"
    }
   ],
   "source": [
    "migration_inflows_raw.CO2.unique()"
   ]
  },
  {
   "cell_type": "markdown",
   "metadata": {},
   "source": [
    "Selection of the countries from Europe that have inflows of foreign population"
   ]
  },
  {
   "cell_type": "code",
   "execution_count": 26,
   "metadata": {},
   "outputs": [],
   "source": [
    "migration_inflows_raw = migration_inflows_raw[migration_inflows_raw['Country'].isin(['Austria', 'Belgium', 'Czech Republic',\n",
    "       'Denmark', 'Finland', 'France', 'Germany', 'Greece', 'Hungary',\n",
    "       'Iceland', 'Ireland', 'Italy', 'Luxembourg',\n",
    "       'Netherlands', 'Norway', 'Poland',\n",
    "       'Slovak Republic', 'Spain', 'Sweden', 'Switzerland', 'Turkey',\n",
    "       'United Kingdom', 'Estonia', 'Slovenia',\n",
    "       'Portugal', 'Latvia'])]"
   ]
  },
  {
   "cell_type": "code",
   "execution_count": 27,
   "metadata": {
    "scrolled": true
   },
   "outputs": [
    {
     "name": "stdout",
     "output_type": "stream",
     "text": [
      "<class 'pandas.core.frame.DataFrame'>\n",
      "Int64Index: 67486 entries, 55 to 475074\n",
      "Data columns (total 13 columns):\n",
      " #   Column                        Non-Null Count  Dtype  \n",
      "---  ------                        --------------  -----  \n",
      " 0   CO2                           67486 non-null  object \n",
      " 1   Country of birth/nationality  67486 non-null  object \n",
      " 2   VAR                           67486 non-null  object \n",
      " 3   Variable                      67486 non-null  object \n",
      " 4   GEN                           67486 non-null  object \n",
      " 5   Gender                        67486 non-null  object \n",
      " 6   COU                           67486 non-null  object \n",
      " 7   Country                       67486 non-null  object \n",
      " 8   YEA                           67486 non-null  int64  \n",
      " 9   Year                          67486 non-null  int64  \n",
      " 10  Value                         67460 non-null  float64\n",
      " 11  Flag Codes                    26 non-null     object \n",
      " 12  Flags                         26 non-null     object \n",
      "dtypes: float64(1), int64(2), object(10)\n",
      "memory usage: 7.2+ MB\n"
     ]
    }
   ],
   "source": [
    "migration_inflows_raw.info()"
   ]
  },
  {
   "cell_type": "markdown",
   "metadata": {},
   "source": [
    "__EDA__:\n",
    "- Analisis de variables:\n",
    "  - Análisis de valores únicos con histogramas.\n",
    "  - Correlaciones para ver si las variables de abajo tienen relación entre ellas.\n",
    "  - Ver si Year y YEA difieren entre si, si no lo hacen eliminar YEA.\n",
    "  - Ver Flag Codes y Flags que significan, valores nulos, si difieren entre ellas. Decidir si eliminar o no.\n",
    "  - Ver VAR que significa, hacer un unique, solo da un valor B11 que corresponde a Variable, eliminar.\n",
    "  - Ver variables relacionadas con Country of birth/nationality, CO2, Country, COU.\n",
    "  - Ver variables GEN y gender\n",
    "\n",
    "- Análisis EDA.\n",
    "  - Análisis de nulos.\n",
    "  - Análisis descriptivo exhaustivo de cada variable.\n",
    "  - Histogramas.\n",
    "    - Ver diferencia en cantidad de migraciónes entre los distintos años.\n",
    "  - Scatterplot.\n",
    "    - Ver países más visitados.\n",
    "    - Ver nacionalidades que más visitan esos países.\n",
    "    \n",
    "  - Correlaciones.\n",
    "  - Gráficas a tutiplen. De lo que sea q se nos vaya ocurriendo. para hacer analisis multivariable\n",
    "  \n",
    "Incluir una variable de coste que se especifique en terminos de km recorridos. (se podría intentar realizar a traves de una función que calcule de forma automática la distancia entre el orígen y el destino)."
   ]
  },
  {
   "cell_type": "markdown",
   "metadata": {},
   "source": [
    "# EDA"
   ]
  },
  {
   "cell_type": "markdown",
   "metadata": {},
   "source": [
    "## 1. Análisis de variables\n",
    "Se ha observado en el análisis previo que existen variables que aportan un solo valor o que están repetidas.\n",
    "\n",
    "Se procederá a realizar un breve análisis de dichas variables para decidir si es posible eliminarlas del dataset."
   ]
  },
  {
   "cell_type": "markdown",
   "metadata": {},
   "source": [
    "__Variables GEN y Gender__"
   ]
  },
  {
   "cell_type": "code",
   "execution_count": 28,
   "metadata": {},
   "outputs": [
    {
     "data": {
      "text/plain": [
       "array(['TOT'], dtype=object)"
      ]
     },
     "execution_count": 28,
     "metadata": {},
     "output_type": "execute_result"
    }
   ],
   "source": [
    "migration_inflows_raw.GEN.unique()"
   ]
  },
  {
   "cell_type": "code",
   "execution_count": 29,
   "metadata": {},
   "outputs": [
    {
     "data": {
      "text/plain": [
       "array(['Total'], dtype=object)"
      ]
     },
     "execution_count": 29,
     "metadata": {},
     "output_type": "execute_result"
    }
   ],
   "source": [
    "migration_inflows_raw.Gender.unique()"
   ]
  },
  {
   "cell_type": "markdown",
   "metadata": {},
   "source": [
    "Se observa que ambos, GEN y Gender cuentan con un único valor (TOT y Total). Se interpreta que la variable GEN es una abreviación de la variable Gender.\n",
    "\n",
    "Debido a que solo cuentan con un valor, se realizará un histograma para verificar esta información."
   ]
  },
  {
   "cell_type": "code",
   "execution_count": 30,
   "metadata": {
    "scrolled": false
   },
   "outputs": [
    {
     "data": {
      "text/plain": [
       "<AxesSubplot:xlabel='Gender', ylabel='Count'>"
      ]
     },
     "execution_count": 30,
     "metadata": {},
     "output_type": "execute_result"
    },
    {
     "data": {
      "image/png": "[encoded data removed]",
      "text/plain": [
       "<Figure size 792x432 with 2 Axes>"
      ]
     },
     "metadata": {
      "needs_background": "light"
     },
     "output_type": "display_data"
    }
   ],
   "source": [
    "plt.figure(figsize=(11, 6))\n",
    "\n",
    "plt.subplot(121)\n",
    "sns.histplot(migration_inflows_raw.GEN)\n",
    "plt.subplot(122)\n",
    "sns.histplot(migration_inflows_raw.Gender)"
   ]
  },
  {
   "cell_type": "markdown",
   "metadata": {},
   "source": [
    "Se observa que ambas tienen el mismo número de valores TOT y Total, por lo que se decide  eliminar ambas variables ya que no otorga información relevante."
   ]
  },
  {
   "cell_type": "markdown",
   "metadata": {},
   "source": [
    "__Variables YEA y Year__"
   ]
  },
  {
   "cell_type": "code",
   "execution_count": 31,
   "metadata": {},
   "outputs": [
    {
     "data": {
      "text/plain": [
       "array([2000, 2001, 2002, 2003, 2004, 2005, 2006, 2007, 2008, 2009, 2010,\n",
       "       2011, 2012, 2013, 2014, 2015, 2016, 2017, 2018, 2019], dtype=int64)"
      ]
     },
     "execution_count": 31,
     "metadata": {},
     "output_type": "execute_result"
    }
   ],
   "source": [
    "migration_inflows_raw.YEA.unique()"
   ]
  },
  {
   "cell_type": "code",
   "execution_count": 32,
   "metadata": {},
   "outputs": [
    {
     "data": {
      "text/plain": [
       "array([2000, 2001, 2002, 2003, 2004, 2005, 2006, 2007, 2008, 2009, 2010,\n",
       "       2011, 2012, 2013, 2014, 2015, 2016, 2017, 2018, 2019], dtype=int64)"
      ]
     },
     "execution_count": 32,
     "metadata": {},
     "output_type": "execute_result"
    }
   ],
   "source": [
    "migration_inflows_raw.Year.unique()"
   ]
  },
  {
   "cell_type": "markdown",
   "metadata": {},
   "source": [
    "Se aprecia que ambas variables muestran el año en el que se dan las migraciones. Se procede a analizar si estas variables están dando la misma información."
   ]
  },
  {
   "cell_type": "code",
   "execution_count": 33,
   "metadata": {
    "scrolled": false
   },
   "outputs": [
    {
     "data": {
      "text/plain": [
       "<AxesSubplot:xlabel='Year', ylabel='Count'>"
      ]
     },
     "execution_count": 33,
     "metadata": {},
     "output_type": "execute_result"
    },
    {
     "data": {
      "image/png": "[encoded data removed]",
      "text/plain": [
       "<Figure size 792x432 with 2 Axes>"
      ]
     },
     "metadata": {
      "needs_background": "light"
     },
     "output_type": "display_data"
    }
   ],
   "source": [
    "plt.figure(figsize=(11, 6))\n",
    "\n",
    "plt.subplot(121)\n",
    "sns.histplot(migration_inflows_raw.YEA)\n",
    "plt.subplot(122)\n",
    "sns.histplot(migration_inflows_raw.Year)"
   ]
  },
  {
   "cell_type": "markdown",
   "metadata": {},
   "source": [
    "Para estas dos variables se percibe que ambas tienen los mismos valores, por lo que se decide eliminar la variable YEA."
   ]
  },
  {
   "cell_type": "markdown",
   "metadata": {},
   "source": [
    "__Variables CO2 y Country of birth/nationality__"
   ]
  },
  {
   "cell_type": "code",
   "execution_count": 34,
   "metadata": {
    "scrolled": false
   },
   "outputs": [
    {
     "data": {
      "text/plain": [
       "array(['AFG', 'ALB', 'DZA', 'AND', 'AGO', 'ATG', 'ARG', 'ARM', 'AUS',\n",
       "       'AUT', 'AZE', 'BHS', 'BHR', 'BGD', 'BRB', 'BLR', 'BEL', 'BLZ',\n",
       "       'BEN', 'BMU', 'BTN', 'BOL', 'BIH', 'BWA', 'BRA', 'BRN', 'BGR',\n",
       "       'BFA', 'BDI', 'KHM', 'CMR', 'CAN', 'CPV', 'CAF', 'TCD', 'CHL',\n",
       "       'CHN', 'COL', 'COM', 'COG', 'COK', 'CRI', 'CIV', 'HRV', 'CUB',\n",
       "       'CYP', 'CZE', 'PRK', 'COD', 'DNK', 'DJI', 'DMA', 'DOM', 'ECU',\n",
       "       'EGY', 'SLV', 'GNQ', 'ERI', 'EST', 'ETH', 'FJI', 'FIN', 'CSK',\n",
       "       'SUN', 'YUCS', 'FRA', 'GAB', 'GMB', 'GEO', 'DEU', 'GHA', 'GRC',\n",
       "       'GRD', 'GUM', 'GTM', 'GIN', 'GNB', 'GUY', 'HTI', 'HND', 'HKG',\n",
       "       'HUN', 'ISL', 'IND', 'IDN', 'IRN', 'IRQ', 'IRL', 'ISR', 'ITA',\n",
       "       'JAM', 'JPN', 'JOR', 'KAZ', 'KEN', 'KIR', 'KOR', 'KWT', 'KGZ',\n",
       "       'LAO', 'LVA', 'LBN', 'LSO', 'LBR', 'LBY', 'LIE', 'LTU', 'LUX',\n",
       "       'MAC', 'MKD', 'MDG', 'MWI', 'MYS', 'MDV', 'MLI', 'MLT', 'MHL',\n",
       "       'MRT', 'MUS', 'MEX', 'FSM', 'MDA', 'MCO', 'MNG', 'MNE', 'MAR',\n",
       "       'MOZ', 'MMR', 'NAM', 'NRU', 'NPL', 'NLD', 'NZL', 'NIC', 'NER',\n",
       "       'NGA', 'NIU', 'NOR', 'OMN', 'PAK', 'PLW', 'PSE', 'PAN', 'PNG',\n",
       "       'PRY', 'PER', 'PHL', 'POL', 'PRT', 'PRI', 'QAT', 'ROU', 'RUS',\n",
       "       'RWA', 'KNA', 'LCA', 'VCT', 'WSM', 'SMR', 'STP', 'SAU', 'SEN',\n",
       "       'SCG', 'SYC', 'SLE', 'SRB', 'SGP', 'SVK', 'SVN', 'SLB', 'SOM',\n",
       "       'ZAF', 'ESP', 'LKA', 'SDN', 'SUR', 'SWZ', 'SWE', 'CHE', 'SYR',\n",
       "       'TWN', 'TJK', 'TZA', 'THA', 'TLS', 'TGO', 'TKL', 'TON', 'TTO',\n",
       "       'TUN', 'TUR', 'TKM', 'TUV', 'UGA', 'UKR', 'ARE', 'GBR', 'USA',\n",
       "       'URY', 'UZB', 'VUT', 'VEN', 'VNM', 'YEM', 'ZMB', 'ZWE'],\n",
       "      dtype=object)"
      ]
     },
     "execution_count": 34,
     "metadata": {},
     "output_type": "execute_result"
    }
   ],
   "source": [
    "migration_inflows_raw.CO2.unique()"
   ]
  },
  {
   "cell_type": "code",
   "execution_count": 35,
   "metadata": {
    "scrolled": true
   },
   "outputs": [
    {
     "data": {
      "text/plain": [
       "array(['Afghanistan', 'Albania', 'Algeria', 'Andorra', 'Angola',\n",
       "       'Antigua and Barbuda', 'Argentina', 'Armenia', 'Australia',\n",
       "       'Austria', 'Azerbaijan', 'Bahamas', 'Bahrain', 'Bangladesh',\n",
       "       'Barbados', 'Belarus', 'Belgium', 'Belize', 'Benin', 'Bermuda',\n",
       "       'Bhutan', 'Bolivia', 'Bosnia and Herzegovina', 'Botswana',\n",
       "       'Brazil', 'Brunei Darussalam', 'Bulgaria', 'Burkina Faso',\n",
       "       'Burundi', 'Cambodia', 'Cameroon', 'Canada', 'Cape Verde',\n",
       "       'Central African Republic', 'Chad', 'Chile', 'China', 'Colombia',\n",
       "       'Comoros', 'Congo', 'Cook Islands', 'Costa Rica', \"Côte d'Ivoire\",\n",
       "       'Croatia', 'Cuba', 'Cyprus', 'Czech Republic',\n",
       "       \"Democratic People's Republic of Korea\",\n",
       "       'Democratic Republic of the Congo', 'Denmark', 'Djibouti',\n",
       "       'Dominica', 'Dominican Republic', 'Ecuador', 'Egypt',\n",
       "       'El Salvador', 'Equatorial Guinea', 'Eritrea', 'Estonia',\n",
       "       'Ethiopia', 'Fiji', 'Finland', 'Former Czechoslovakia',\n",
       "       'Former USSR', 'Former Yugoslavia', 'France', 'Gabon', 'Gambia',\n",
       "       'Georgia', 'Germany', 'Ghana', 'Greece', 'Grenada', 'Guam',\n",
       "       'Guatemala', 'Guinea', 'Guinea-Bissau', 'Guyana', 'Haiti',\n",
       "       'Honduras', 'Hong Kong, China', 'Hungary', 'Iceland', 'India',\n",
       "       'Indonesia', 'Iran', 'Iraq', 'Ireland', 'Israel', 'Italy',\n",
       "       'Jamaica', 'Japan', 'Jordan', 'Kazakhstan', 'Kenya', 'Kiribati',\n",
       "       'Korea', 'Kuwait', 'Kyrgyzstan', 'Laos', 'Latvia', 'Lebanon',\n",
       "       'Lesotho', 'Liberia', 'Libya', 'Liechtenstein', 'Lithuania',\n",
       "       'Luxembourg', 'Macau', 'North Macedonia', 'Madagascar', 'Malawi',\n",
       "       'Malaysia', 'Maldives', 'Mali', 'Malta', 'Marshall Islands',\n",
       "       'Mauritania', 'Mauritius', 'Mexico', 'Micronesia', 'Moldova',\n",
       "       'Monaco', 'Mongolia', 'Montenegro', 'Morocco', 'Mozambique',\n",
       "       'Myanmar', 'Namibia', 'Nauru', 'Nepal', 'Netherlands',\n",
       "       'New Zealand', 'Nicaragua', 'Niger', 'Nigeria', 'Niue', 'Norway',\n",
       "       'Oman', 'Pakistan', 'Palau', 'West Bank and Gaza Strip', 'Panama',\n",
       "       'Papua New Guinea', 'Paraguay', 'Peru', 'Philippines', 'Poland',\n",
       "       'Portugal', 'Puerto Rico', 'Qatar', 'Romania', 'Russia', 'Rwanda',\n",
       "       'Saint Kitts and Nevis', 'Saint Lucia',\n",
       "       'Saint Vincent and the Grenadines', 'Samoa', 'San Marino',\n",
       "       'Sao Tome and Principe', 'Saudi Arabia', 'Senegal',\n",
       "       'Serbia and Montenegro', 'Seychelles', 'Sierra Leone', 'Serbia',\n",
       "       'Singapore', 'Slovak Republic', 'Slovenia', 'Solomon Islands',\n",
       "       'Somalia', 'South Africa', 'Spain', 'Sri Lanka', 'Sudan',\n",
       "       'Suriname', 'Swaziland', 'Sweden', 'Switzerland', 'Syria',\n",
       "       'Chinese Taipei', 'Tajikistan', 'Tanzania', 'Thailand',\n",
       "       'Timor-Leste', 'Togo', 'Tokelau', 'Tonga', 'Trinidad and Tobago',\n",
       "       'Tunisia', 'Turkey', 'Turkmenistan', 'Tuvalu', 'Uganda', 'Ukraine',\n",
       "       'United Arab Emirates', 'United Kingdom', 'United States',\n",
       "       'Uruguay', 'Uzbekistan', 'Vanuatu', 'Venezuela', 'Viet Nam',\n",
       "       'Yemen', 'Zambia', 'Zimbabwe'], dtype=object)"
      ]
     },
     "execution_count": 35,
     "metadata": {},
     "output_type": "execute_result"
    }
   ],
   "source": [
    "migration_inflows_raw['Country of birth/nationality'].unique()"
   ]
  },
  {
   "cell_type": "code",
   "execution_count": 36,
   "metadata": {
    "scrolled": false
   },
   "outputs": [
    {
     "data": {
      "text/plain": [
       "<AxesSubplot:xlabel='Country of birth/nationality', ylabel='Count'>"
      ]
     },
     "execution_count": 36,
     "metadata": {},
     "output_type": "execute_result"
    },
    {
     "data": {
      "image/png": "[encoded data removed]",
      "text/plain": [
       "<Figure size 1440x720 with 2 Axes>"
      ]
     },
     "metadata": {
      "needs_background": "light"
     },
     "output_type": "display_data"
    }
   ],
   "source": [
    "plt.figure(figsize=(20, 10))\n",
    "\n",
    "plt.subplot(211)\n",
    "sns.histplot(migration_inflows_raw.CO2)\n",
    "plt.subplot(212)\n",
    "sns.histplot(migration_inflows_raw['Country of birth/nationality'])"
   ]
  },
  {
   "cell_type": "markdown",
   "metadata": {},
   "source": [
    "Las variables CO2 y Country of birth/nationality tienen la misma información, siendo C02 la abreviatura del país. Se decide eliminar la variable Country of birth/nationality y se modifica el nombre de C02 por Origin, haciendo referencia al país de origen.\n",
    "\n",
    "Se elaborará un diccionario para definir cada abreviatura."
   ]
  },
  {
   "cell_type": "code",
   "execution_count": 37,
   "metadata": {},
   "outputs": [],
   "source": [
    "migration_inflows_raw.rename(columns={'CO2':'Origin'}, inplace=True)"
   ]
  },
  {
   "cell_type": "code",
   "execution_count": 38,
   "metadata": {
    "scrolled": true
   },
   "outputs": [
    {
     "data": {
      "text/html": [
       "<div>\n",
       "<style scoped>\n",
       "    .dataframe tbody tr th:only-of-type {\n",
       "        vertical-align: middle;\n",
       "    }\n",
       "\n",
       "    .dataframe tbody tr th {\n",
       "        vertical-align: top;\n",
       "    }\n",
       "\n",
       "    .dataframe thead th {\n",
       "        text-align: right;\n",
       "    }\n",
       "</style>\n",
       "<table border=\"1\" class=\"dataframe\">\n",
       "  <thead>\n",
       "    <tr style=\"text-align: right;\">\n",
       "      <th></th>\n",
       "      <th>Origin</th>\n",
       "      <th>Country of birth/nationality</th>\n",
       "      <th>VAR</th>\n",
       "      <th>Variable</th>\n",
       "      <th>GEN</th>\n",
       "      <th>Gender</th>\n",
       "      <th>COU</th>\n",
       "      <th>Country</th>\n",
       "      <th>YEA</th>\n",
       "      <th>Year</th>\n",
       "      <th>Value</th>\n",
       "      <th>Flag Codes</th>\n",
       "      <th>Flags</th>\n",
       "    </tr>\n",
       "  </thead>\n",
       "  <tbody>\n",
       "    <tr>\n",
       "      <th>55</th>\n",
       "      <td>AFG</td>\n",
       "      <td>Afghanistan</td>\n",
       "      <td>B11</td>\n",
       "      <td>Inflows of foreign population by nationality</td>\n",
       "      <td>TOT</td>\n",
       "      <td>Total</td>\n",
       "      <td>AUT</td>\n",
       "      <td>Austria</td>\n",
       "      <td>2000</td>\n",
       "      <td>2000</td>\n",
       "      <td>828.0</td>\n",
       "      <td>NaN</td>\n",
       "      <td>NaN</td>\n",
       "    </tr>\n",
       "    <tr>\n",
       "      <th>56</th>\n",
       "      <td>AFG</td>\n",
       "      <td>Afghanistan</td>\n",
       "      <td>B11</td>\n",
       "      <td>Inflows of foreign population by nationality</td>\n",
       "      <td>TOT</td>\n",
       "      <td>Total</td>\n",
       "      <td>AUT</td>\n",
       "      <td>Austria</td>\n",
       "      <td>2001</td>\n",
       "      <td>2001</td>\n",
       "      <td>1539.0</td>\n",
       "      <td>NaN</td>\n",
       "      <td>NaN</td>\n",
       "    </tr>\n",
       "    <tr>\n",
       "      <th>57</th>\n",
       "      <td>AFG</td>\n",
       "      <td>Afghanistan</td>\n",
       "      <td>B11</td>\n",
       "      <td>Inflows of foreign population by nationality</td>\n",
       "      <td>TOT</td>\n",
       "      <td>Total</td>\n",
       "      <td>AUT</td>\n",
       "      <td>Austria</td>\n",
       "      <td>2002</td>\n",
       "      <td>2002</td>\n",
       "      <td>1101.0</td>\n",
       "      <td>NaN</td>\n",
       "      <td>NaN</td>\n",
       "    </tr>\n",
       "    <tr>\n",
       "      <th>58</th>\n",
       "      <td>AFG</td>\n",
       "      <td>Afghanistan</td>\n",
       "      <td>B11</td>\n",
       "      <td>Inflows of foreign population by nationality</td>\n",
       "      <td>TOT</td>\n",
       "      <td>Total</td>\n",
       "      <td>AUT</td>\n",
       "      <td>Austria</td>\n",
       "      <td>2003</td>\n",
       "      <td>2003</td>\n",
       "      <td>743.0</td>\n",
       "      <td>NaN</td>\n",
       "      <td>NaN</td>\n",
       "    </tr>\n",
       "    <tr>\n",
       "      <th>59</th>\n",
       "      <td>AFG</td>\n",
       "      <td>Afghanistan</td>\n",
       "      <td>B11</td>\n",
       "      <td>Inflows of foreign population by nationality</td>\n",
       "      <td>TOT</td>\n",
       "      <td>Total</td>\n",
       "      <td>AUT</td>\n",
       "      <td>Austria</td>\n",
       "      <td>2004</td>\n",
       "      <td>2004</td>\n",
       "      <td>650.0</td>\n",
       "      <td>NaN</td>\n",
       "      <td>NaN</td>\n",
       "    </tr>\n",
       "  </tbody>\n",
       "</table>\n",
       "</div>"
      ],
      "text/plain": [
       "   Origin Country of birth/nationality  VAR  \\\n",
       "55    AFG                  Afghanistan  B11   \n",
       "56    AFG                  Afghanistan  B11   \n",
       "57    AFG                  Afghanistan  B11   \n",
       "58    AFG                  Afghanistan  B11   \n",
       "59    AFG                  Afghanistan  B11   \n",
       "\n",
       "                                        Variable  GEN Gender  COU  Country  \\\n",
       "55  Inflows of foreign population by nationality  TOT  Total  AUT  Austria   \n",
       "56  Inflows of foreign population by nationality  TOT  Total  AUT  Austria   \n",
       "57  Inflows of foreign population by nationality  TOT  Total  AUT  Austria   \n",
       "58  Inflows of foreign population by nationality  TOT  Total  AUT  Austria   \n",
       "59  Inflows of foreign population by nationality  TOT  Total  AUT  Austria   \n",
       "\n",
       "     YEA  Year   Value Flag Codes Flags  \n",
       "55  2000  2000   828.0        NaN   NaN  \n",
       "56  2001  2001  1539.0        NaN   NaN  \n",
       "57  2002  2002  1101.0        NaN   NaN  \n",
       "58  2003  2003   743.0        NaN   NaN  \n",
       "59  2004  2004   650.0        NaN   NaN  "
      ]
     },
     "execution_count": 38,
     "metadata": {},
     "output_type": "execute_result"
    }
   ],
   "source": [
    "migration_inflows_raw.head()"
   ]
  },
  {
   "cell_type": "markdown",
   "metadata": {},
   "source": [
    "__Variables COU y Country__"
   ]
  },
  {
   "cell_type": "code",
   "execution_count": 39,
   "metadata": {},
   "outputs": [
    {
     "data": {
      "text/plain": [
       "array(['AUT', 'BEL', 'CZE', 'DNK', 'FIN', 'FRA', 'DEU', 'HUN', 'ISL',\n",
       "       'ITA', 'LUX', 'NLD', 'NOR', 'POL', 'SVK', 'ESP', 'SWE', 'CHE',\n",
       "       'TUR', 'GBR', 'EST', 'SVN', 'GRC', 'PRT', 'IRL', 'LVA'],\n",
       "      dtype=object)"
      ]
     },
     "execution_count": 39,
     "metadata": {},
     "output_type": "execute_result"
    }
   ],
   "source": [
    "migration_inflows_raw.COU.unique()"
   ]
  },
  {
   "cell_type": "code",
   "execution_count": 40,
   "metadata": {
    "scrolled": true
   },
   "outputs": [
    {
     "data": {
      "text/plain": [
       "array(['Austria', 'Belgium', 'Czech Republic', 'Denmark', 'Finland',\n",
       "       'France', 'Germany', 'Hungary', 'Iceland', 'Italy', 'Luxembourg',\n",
       "       'Netherlands', 'Norway', 'Poland', 'Slovak Republic', 'Spain',\n",
       "       'Sweden', 'Switzerland', 'Turkey', 'United Kingdom', 'Estonia',\n",
       "       'Slovenia', 'Greece', 'Portugal', 'Ireland', 'Latvia'],\n",
       "      dtype=object)"
      ]
     },
     "execution_count": 40,
     "metadata": {},
     "output_type": "execute_result"
    }
   ],
   "source": [
    "migration_inflows_raw.Country.unique()"
   ]
  },
  {
   "cell_type": "markdown",
   "metadata": {},
   "source": [
    "Se observa que estas dos variables siguen el mismo patrón que las de CO2 y Country of birth/nationality. Se procederá a realizar el mismo análisis para determinar la utilidad de las dos variables."
   ]
  },
  {
   "cell_type": "code",
   "execution_count": 41,
   "metadata": {
    "scrolled": true
   },
   "outputs": [
    {
     "data": {
      "text/plain": [
       "<AxesSubplot:xlabel='Country', ylabel='Count'>"
      ]
     },
     "execution_count": 41,
     "metadata": {},
     "output_type": "execute_result"
    },
    {
     "data": {
      "image/png": "[encoded data removed]",
      "text/plain": [
       "<Figure size 1440x432 with 2 Axes>"
      ]
     },
     "metadata": {
      "needs_background": "light"
     },
     "output_type": "display_data"
    }
   ],
   "source": [
    "plt.figure(figsize=(20, 6))\n",
    "\n",
    "plt.subplot(211)\n",
    "sns.histplot(migration_inflows_raw.COU)\n",
    "plt.subplot(212)\n",
    "sns.histplot(migration_inflows_raw.Country)\n"
   ]
  },
  {
   "cell_type": "markdown",
   "metadata": {},
   "source": [
    "Igual que anteriormente, COU es la abreviatura de Country y tiene la misma información. Se decide eliminar Country del dataset para trabajar con las abreviaturas de los países de destino. Se procede a cambiar el nombre de la variable COU por el de Destination.\n",
    "\n",
    "Se elaborará un diccionario para definir cada abreviatura."
   ]
  },
  {
   "cell_type": "code",
   "execution_count": 42,
   "metadata": {},
   "outputs": [],
   "source": [
    "migration_inflows_raw.rename(columns={'COU':'Destination'}, inplace=True)"
   ]
  },
  {
   "cell_type": "code",
   "execution_count": 43,
   "metadata": {
    "scrolled": false
   },
   "outputs": [
    {
     "data": {
      "text/html": [
       "<div>\n",
       "<style scoped>\n",
       "    .dataframe tbody tr th:only-of-type {\n",
       "        vertical-align: middle;\n",
       "    }\n",
       "\n",
       "    .dataframe tbody tr th {\n",
       "        vertical-align: top;\n",
       "    }\n",
       "\n",
       "    .dataframe thead th {\n",
       "        text-align: right;\n",
       "    }\n",
       "</style>\n",
       "<table border=\"1\" class=\"dataframe\">\n",
       "  <thead>\n",
       "    <tr style=\"text-align: right;\">\n",
       "      <th></th>\n",
       "      <th>Origin</th>\n",
       "      <th>Country of birth/nationality</th>\n",
       "      <th>VAR</th>\n",
       "      <th>Variable</th>\n",
       "      <th>GEN</th>\n",
       "      <th>Gender</th>\n",
       "      <th>Destination</th>\n",
       "      <th>Country</th>\n",
       "      <th>YEA</th>\n",
       "      <th>Year</th>\n",
       "      <th>Value</th>\n",
       "      <th>Flag Codes</th>\n",
       "      <th>Flags</th>\n",
       "    </tr>\n",
       "  </thead>\n",
       "  <tbody>\n",
       "    <tr>\n",
       "      <th>55</th>\n",
       "      <td>AFG</td>\n",
       "      <td>Afghanistan</td>\n",
       "      <td>B11</td>\n",
       "      <td>Inflows of foreign population by nationality</td>\n",
       "      <td>TOT</td>\n",
       "      <td>Total</td>\n",
       "      <td>AUT</td>\n",
       "      <td>Austria</td>\n",
       "      <td>2000</td>\n",
       "      <td>2000</td>\n",
       "      <td>828.0</td>\n",
       "      <td>NaN</td>\n",
       "      <td>NaN</td>\n",
       "    </tr>\n",
       "    <tr>\n",
       "      <th>56</th>\n",
       "      <td>AFG</td>\n",
       "      <td>Afghanistan</td>\n",
       "      <td>B11</td>\n",
       "      <td>Inflows of foreign population by nationality</td>\n",
       "      <td>TOT</td>\n",
       "      <td>Total</td>\n",
       "      <td>AUT</td>\n",
       "      <td>Austria</td>\n",
       "      <td>2001</td>\n",
       "      <td>2001</td>\n",
       "      <td>1539.0</td>\n",
       "      <td>NaN</td>\n",
       "      <td>NaN</td>\n",
       "    </tr>\n",
       "    <tr>\n",
       "      <th>57</th>\n",
       "      <td>AFG</td>\n",
       "      <td>Afghanistan</td>\n",
       "      <td>B11</td>\n",
       "      <td>Inflows of foreign population by nationality</td>\n",
       "      <td>TOT</td>\n",
       "      <td>Total</td>\n",
       "      <td>AUT</td>\n",
       "      <td>Austria</td>\n",
       "      <td>2002</td>\n",
       "      <td>2002</td>\n",
       "      <td>1101.0</td>\n",
       "      <td>NaN</td>\n",
       "      <td>NaN</td>\n",
       "    </tr>\n",
       "    <tr>\n",
       "      <th>58</th>\n",
       "      <td>AFG</td>\n",
       "      <td>Afghanistan</td>\n",
       "      <td>B11</td>\n",
       "      <td>Inflows of foreign population by nationality</td>\n",
       "      <td>TOT</td>\n",
       "      <td>Total</td>\n",
       "      <td>AUT</td>\n",
       "      <td>Austria</td>\n",
       "      <td>2003</td>\n",
       "      <td>2003</td>\n",
       "      <td>743.0</td>\n",
       "      <td>NaN</td>\n",
       "      <td>NaN</td>\n",
       "    </tr>\n",
       "    <tr>\n",
       "      <th>59</th>\n",
       "      <td>AFG</td>\n",
       "      <td>Afghanistan</td>\n",
       "      <td>B11</td>\n",
       "      <td>Inflows of foreign population by nationality</td>\n",
       "      <td>TOT</td>\n",
       "      <td>Total</td>\n",
       "      <td>AUT</td>\n",
       "      <td>Austria</td>\n",
       "      <td>2004</td>\n",
       "      <td>2004</td>\n",
       "      <td>650.0</td>\n",
       "      <td>NaN</td>\n",
       "      <td>NaN</td>\n",
       "    </tr>\n",
       "  </tbody>\n",
       "</table>\n",
       "</div>"
      ],
      "text/plain": [
       "   Origin Country of birth/nationality  VAR  \\\n",
       "55    AFG                  Afghanistan  B11   \n",
       "56    AFG                  Afghanistan  B11   \n",
       "57    AFG                  Afghanistan  B11   \n",
       "58    AFG                  Afghanistan  B11   \n",
       "59    AFG                  Afghanistan  B11   \n",
       "\n",
       "                                        Variable  GEN Gender Destination  \\\n",
       "55  Inflows of foreign population by nationality  TOT  Total         AUT   \n",
       "56  Inflows of foreign population by nationality  TOT  Total         AUT   \n",
       "57  Inflows of foreign population by nationality  TOT  Total         AUT   \n",
       "58  Inflows of foreign population by nationality  TOT  Total         AUT   \n",
       "59  Inflows of foreign population by nationality  TOT  Total         AUT   \n",
       "\n",
       "    Country   YEA  Year   Value Flag Codes Flags  \n",
       "55  Austria  2000  2000   828.0        NaN   NaN  \n",
       "56  Austria  2001  2001  1539.0        NaN   NaN  \n",
       "57  Austria  2002  2002  1101.0        NaN   NaN  \n",
       "58  Austria  2003  2003   743.0        NaN   NaN  \n",
       "59  Austria  2004  2004   650.0        NaN   NaN  "
      ]
     },
     "execution_count": 43,
     "metadata": {},
     "output_type": "execute_result"
    }
   ],
   "source": [
    "migration_inflows_raw.head()"
   ]
  },
  {
   "cell_type": "markdown",
   "metadata": {},
   "source": [
    "__Variables Flag Codes y Flags__"
   ]
  },
  {
   "cell_type": "code",
   "execution_count": 44,
   "metadata": {},
   "outputs": [
    {
     "data": {
      "text/plain": [
       "array([nan, 'e'], dtype=object)"
      ]
     },
     "execution_count": 44,
     "metadata": {},
     "output_type": "execute_result"
    }
   ],
   "source": [
    "migration_inflows_raw['Flag Codes'].unique()"
   ]
  },
  {
   "cell_type": "code",
   "execution_count": 45,
   "metadata": {},
   "outputs": [
    {
     "data": {
      "text/plain": [
       "array([nan, 'Estimated value'], dtype=object)"
      ]
     },
     "execution_count": 45,
     "metadata": {},
     "output_type": "execute_result"
    }
   ],
   "source": [
    "migration_inflows_raw.Flags.unique()"
   ]
  },
  {
   "cell_type": "markdown",
   "metadata": {},
   "source": [
    "Se observa que posiblemente Flags sea una abreviación de Flag Codes. Ambas cuentan con dos valores, e y Estimated value se entiende que posiblemente se refieran a lo mismo. Además cuentan con valores nulos."
   ]
  },
  {
   "cell_type": "code",
   "execution_count": 46,
   "metadata": {},
   "outputs": [
    {
     "data": {
      "text/plain": [
       "99.96147349079808"
      ]
     },
     "execution_count": 46,
     "metadata": {},
     "output_type": "execute_result"
    }
   ],
   "source": [
    "(migration_inflows_raw.Flags.isnull().sum()/ len(migration_inflows_raw))*100"
   ]
  },
  {
   "cell_type": "code",
   "execution_count": 47,
   "metadata": {},
   "outputs": [
    {
     "data": {
      "text/plain": [
       "99.96147349079808"
      ]
     },
     "execution_count": 47,
     "metadata": {},
     "output_type": "execute_result"
    }
   ],
   "source": [
    "(migration_inflows_raw['Flag Codes'].isnull().sum()/ len(migration_inflows_raw))*100"
   ]
  },
  {
   "cell_type": "markdown",
   "metadata": {},
   "source": [
    "El porcentaje de valores nulos de esta variable es practicamente del 100 %, por lo que se decide eliminar ambas del dataset. Previamente, se analiza el valor donde Flag Code es igual a 'e'."
   ]
  },
  {
   "cell_type": "code",
   "execution_count": 48,
   "metadata": {
    "scrolled": false
   },
   "outputs": [
    {
     "data": {
      "text/html": [
       "<div>\n",
       "<style scoped>\n",
       "    .dataframe tbody tr th:only-of-type {\n",
       "        vertical-align: middle;\n",
       "    }\n",
       "\n",
       "    .dataframe tbody tr th {\n",
       "        vertical-align: top;\n",
       "    }\n",
       "\n",
       "    .dataframe thead th {\n",
       "        text-align: right;\n",
       "    }\n",
       "</style>\n",
       "<table border=\"1\" class=\"dataframe\">\n",
       "  <thead>\n",
       "    <tr style=\"text-align: right;\">\n",
       "      <th></th>\n",
       "      <th>Origin</th>\n",
       "      <th>Country of birth/nationality</th>\n",
       "      <th>VAR</th>\n",
       "      <th>Variable</th>\n",
       "      <th>GEN</th>\n",
       "      <th>Gender</th>\n",
       "      <th>Destination</th>\n",
       "      <th>Country</th>\n",
       "      <th>YEA</th>\n",
       "      <th>Year</th>\n",
       "      <th>Value</th>\n",
       "      <th>Flag Codes</th>\n",
       "      <th>Flags</th>\n",
       "    </tr>\n",
       "  </thead>\n",
       "  <tbody>\n",
       "    <tr>\n",
       "      <th>5510</th>\n",
       "      <td>ATG</td>\n",
       "      <td>Antigua and Barbuda</td>\n",
       "      <td>B11</td>\n",
       "      <td>Inflows of foreign population by nationality</td>\n",
       "      <td>TOT</td>\n",
       "      <td>Total</td>\n",
       "      <td>BEL</td>\n",
       "      <td>Belgium</td>\n",
       "      <td>2010</td>\n",
       "      <td>2010</td>\n",
       "      <td>NaN</td>\n",
       "      <td>e</td>\n",
       "      <td>Estimated value</td>\n",
       "    </tr>\n",
       "    <tr>\n",
       "      <th>20051</th>\n",
       "      <td>BEL</td>\n",
       "      <td>Belgium</td>\n",
       "      <td>B11</td>\n",
       "      <td>Inflows of foreign population by nationality</td>\n",
       "      <td>TOT</td>\n",
       "      <td>Total</td>\n",
       "      <td>BEL</td>\n",
       "      <td>Belgium</td>\n",
       "      <td>2010</td>\n",
       "      <td>2010</td>\n",
       "      <td>NaN</td>\n",
       "      <td>e</td>\n",
       "      <td>Estimated value</td>\n",
       "    </tr>\n",
       "    <tr>\n",
       "      <th>21179</th>\n",
       "      <td>BLZ</td>\n",
       "      <td>Belize</td>\n",
       "      <td>B11</td>\n",
       "      <td>Inflows of foreign population by nationality</td>\n",
       "      <td>TOT</td>\n",
       "      <td>Total</td>\n",
       "      <td>BEL</td>\n",
       "      <td>Belgium</td>\n",
       "      <td>2010</td>\n",
       "      <td>2010</td>\n",
       "      <td>NaN</td>\n",
       "      <td>e</td>\n",
       "      <td>Estimated value</td>\n",
       "    </tr>\n",
       "    <tr>\n",
       "      <th>23660</th>\n",
       "      <td>BMU</td>\n",
       "      <td>Bermuda</td>\n",
       "      <td>B11</td>\n",
       "      <td>Inflows of foreign population by nationality</td>\n",
       "      <td>TOT</td>\n",
       "      <td>Total</td>\n",
       "      <td>BEL</td>\n",
       "      <td>Belgium</td>\n",
       "      <td>2010</td>\n",
       "      <td>2010</td>\n",
       "      <td>NaN</td>\n",
       "      <td>e</td>\n",
       "      <td>Estimated value</td>\n",
       "    </tr>\n",
       "    <tr>\n",
       "      <th>47664</th>\n",
       "      <td>COK</td>\n",
       "      <td>Cook Islands</td>\n",
       "      <td>B11</td>\n",
       "      <td>Inflows of foreign population by nationality</td>\n",
       "      <td>TOT</td>\n",
       "      <td>Total</td>\n",
       "      <td>BEL</td>\n",
       "      <td>Belgium</td>\n",
       "      <td>2010</td>\n",
       "      <td>2010</td>\n",
       "      <td>NaN</td>\n",
       "      <td>e</td>\n",
       "      <td>Estimated value</td>\n",
       "    </tr>\n",
       "    <tr>\n",
       "      <th>84966</th>\n",
       "      <td>GRD</td>\n",
       "      <td>Grenada</td>\n",
       "      <td>B11</td>\n",
       "      <td>Inflows of foreign population by nationality</td>\n",
       "      <td>TOT</td>\n",
       "      <td>Total</td>\n",
       "      <td>BEL</td>\n",
       "      <td>Belgium</td>\n",
       "      <td>2010</td>\n",
       "      <td>2010</td>\n",
       "      <td>NaN</td>\n",
       "      <td>e</td>\n",
       "      <td>Estimated value</td>\n",
       "    </tr>\n",
       "    <tr>\n",
       "      <th>85757</th>\n",
       "      <td>GUM</td>\n",
       "      <td>Guam</td>\n",
       "      <td>B11</td>\n",
       "      <td>Inflows of foreign population by nationality</td>\n",
       "      <td>TOT</td>\n",
       "      <td>Total</td>\n",
       "      <td>BEL</td>\n",
       "      <td>Belgium</td>\n",
       "      <td>2010</td>\n",
       "      <td>2010</td>\n",
       "      <td>NaN</td>\n",
       "      <td>e</td>\n",
       "      <td>Estimated value</td>\n",
       "    </tr>\n",
       "    <tr>\n",
       "      <th>93363</th>\n",
       "      <td>HKG</td>\n",
       "      <td>Hong Kong, China</td>\n",
       "      <td>B11</td>\n",
       "      <td>Inflows of foreign population by nationality</td>\n",
       "      <td>TOT</td>\n",
       "      <td>Total</td>\n",
       "      <td>BEL</td>\n",
       "      <td>Belgium</td>\n",
       "      <td>2010</td>\n",
       "      <td>2010</td>\n",
       "      <td>NaN</td>\n",
       "      <td>e</td>\n",
       "      <td>Estimated value</td>\n",
       "    </tr>\n",
       "    <tr>\n",
       "      <th>111769</th>\n",
       "      <td>KIR</td>\n",
       "      <td>Kiribati</td>\n",
       "      <td>B11</td>\n",
       "      <td>Inflows of foreign population by nationality</td>\n",
       "      <td>TOT</td>\n",
       "      <td>Total</td>\n",
       "      <td>BEL</td>\n",
       "      <td>Belgium</td>\n",
       "      <td>2010</td>\n",
       "      <td>2010</td>\n",
       "      <td>NaN</td>\n",
       "      <td>e</td>\n",
       "      <td>Estimated value</td>\n",
       "    </tr>\n",
       "    <tr>\n",
       "      <th>120359</th>\n",
       "      <td>LSO</td>\n",
       "      <td>Lesotho</td>\n",
       "      <td>B11</td>\n",
       "      <td>Inflows of foreign population by nationality</td>\n",
       "      <td>TOT</td>\n",
       "      <td>Total</td>\n",
       "      <td>BEL</td>\n",
       "      <td>Belgium</td>\n",
       "      <td>2010</td>\n",
       "      <td>2010</td>\n",
       "      <td>NaN</td>\n",
       "      <td>e</td>\n",
       "      <td>Estimated value</td>\n",
       "    </tr>\n",
       "    <tr>\n",
       "      <th>127182</th>\n",
       "      <td>MAC</td>\n",
       "      <td>Macau</td>\n",
       "      <td>B11</td>\n",
       "      <td>Inflows of foreign population by nationality</td>\n",
       "      <td>TOT</td>\n",
       "      <td>Total</td>\n",
       "      <td>BEL</td>\n",
       "      <td>Belgium</td>\n",
       "      <td>2010</td>\n",
       "      <td>2010</td>\n",
       "      <td>NaN</td>\n",
       "      <td>e</td>\n",
       "      <td>Estimated value</td>\n",
       "    </tr>\n",
       "    <tr>\n",
       "      <th>132909</th>\n",
       "      <td>MDV</td>\n",
       "      <td>Maldives</td>\n",
       "      <td>B11</td>\n",
       "      <td>Inflows of foreign population by nationality</td>\n",
       "      <td>TOT</td>\n",
       "      <td>Total</td>\n",
       "      <td>BEL</td>\n",
       "      <td>Belgium</td>\n",
       "      <td>2010</td>\n",
       "      <td>2010</td>\n",
       "      <td>NaN</td>\n",
       "      <td>e</td>\n",
       "      <td>Estimated value</td>\n",
       "    </tr>\n",
       "    <tr>\n",
       "      <th>135898</th>\n",
       "      <td>MHL</td>\n",
       "      <td>Marshall Islands</td>\n",
       "      <td>B11</td>\n",
       "      <td>Inflows of foreign population by nationality</td>\n",
       "      <td>TOT</td>\n",
       "      <td>Total</td>\n",
       "      <td>BEL</td>\n",
       "      <td>Belgium</td>\n",
       "      <td>2010</td>\n",
       "      <td>2010</td>\n",
       "      <td>NaN</td>\n",
       "      <td>e</td>\n",
       "      <td>Estimated value</td>\n",
       "    </tr>\n",
       "    <tr>\n",
       "      <th>139609</th>\n",
       "      <td>FSM</td>\n",
       "      <td>Micronesia</td>\n",
       "      <td>B11</td>\n",
       "      <td>Inflows of foreign population by nationality</td>\n",
       "      <td>TOT</td>\n",
       "      <td>Total</td>\n",
       "      <td>BEL</td>\n",
       "      <td>Belgium</td>\n",
       "      <td>2010</td>\n",
       "      <td>2010</td>\n",
       "      <td>NaN</td>\n",
       "      <td>e</td>\n",
       "      <td>Estimated value</td>\n",
       "    </tr>\n",
       "    <tr>\n",
       "      <th>147734</th>\n",
       "      <td>NRU</td>\n",
       "      <td>Nauru</td>\n",
       "      <td>B11</td>\n",
       "      <td>Inflows of foreign population by nationality</td>\n",
       "      <td>TOT</td>\n",
       "      <td>Total</td>\n",
       "      <td>BEL</td>\n",
       "      <td>Belgium</td>\n",
       "      <td>2010</td>\n",
       "      <td>2010</td>\n",
       "      <td>NaN</td>\n",
       "      <td>e</td>\n",
       "      <td>Estimated value</td>\n",
       "    </tr>\n",
       "    <tr>\n",
       "      <th>154666</th>\n",
       "      <td>NIU</td>\n",
       "      <td>Niue</td>\n",
       "      <td>B11</td>\n",
       "      <td>Inflows of foreign population by nationality</td>\n",
       "      <td>TOT</td>\n",
       "      <td>Total</td>\n",
       "      <td>BEL</td>\n",
       "      <td>Belgium</td>\n",
       "      <td>2010</td>\n",
       "      <td>2010</td>\n",
       "      <td>NaN</td>\n",
       "      <td>e</td>\n",
       "      <td>Estimated value</td>\n",
       "    </tr>\n",
       "    <tr>\n",
       "      <th>158355</th>\n",
       "      <td>PLW</td>\n",
       "      <td>Palau</td>\n",
       "      <td>B11</td>\n",
       "      <td>Inflows of foreign population by nationality</td>\n",
       "      <td>TOT</td>\n",
       "      <td>Total</td>\n",
       "      <td>BEL</td>\n",
       "      <td>Belgium</td>\n",
       "      <td>2010</td>\n",
       "      <td>2010</td>\n",
       "      <td>NaN</td>\n",
       "      <td>e</td>\n",
       "      <td>Estimated value</td>\n",
       "    </tr>\n",
       "    <tr>\n",
       "      <th>160405</th>\n",
       "      <td>PNG</td>\n",
       "      <td>Papua New Guinea</td>\n",
       "      <td>B11</td>\n",
       "      <td>Inflows of foreign population by nationality</td>\n",
       "      <td>TOT</td>\n",
       "      <td>Total</td>\n",
       "      <td>BEL</td>\n",
       "      <td>Belgium</td>\n",
       "      <td>2010</td>\n",
       "      <td>2010</td>\n",
       "      <td>NaN</td>\n",
       "      <td>e</td>\n",
       "      <td>Estimated value</td>\n",
       "    </tr>\n",
       "    <tr>\n",
       "      <th>167812</th>\n",
       "      <td>PRI</td>\n",
       "      <td>Puerto Rico</td>\n",
       "      <td>B11</td>\n",
       "      <td>Inflows of foreign population by nationality</td>\n",
       "      <td>TOT</td>\n",
       "      <td>Total</td>\n",
       "      <td>BEL</td>\n",
       "      <td>Belgium</td>\n",
       "      <td>2010</td>\n",
       "      <td>2010</td>\n",
       "      <td>NaN</td>\n",
       "      <td>e</td>\n",
       "      <td>Estimated value</td>\n",
       "    </tr>\n",
       "    <tr>\n",
       "      <th>172657</th>\n",
       "      <td>KNA</td>\n",
       "      <td>Saint Kitts and Nevis</td>\n",
       "      <td>B11</td>\n",
       "      <td>Inflows of foreign population by nationality</td>\n",
       "      <td>TOT</td>\n",
       "      <td>Total</td>\n",
       "      <td>BEL</td>\n",
       "      <td>Belgium</td>\n",
       "      <td>2010</td>\n",
       "      <td>2010</td>\n",
       "      <td>NaN</td>\n",
       "      <td>e</td>\n",
       "      <td>Estimated value</td>\n",
       "    </tr>\n",
       "    <tr>\n",
       "      <th>173857</th>\n",
       "      <td>VCT</td>\n",
       "      <td>Saint Vincent and the Grenadines</td>\n",
       "      <td>B11</td>\n",
       "      <td>Inflows of foreign population by nationality</td>\n",
       "      <td>TOT</td>\n",
       "      <td>Total</td>\n",
       "      <td>BEL</td>\n",
       "      <td>Belgium</td>\n",
       "      <td>2010</td>\n",
       "      <td>2010</td>\n",
       "      <td>NaN</td>\n",
       "      <td>e</td>\n",
       "      <td>Estimated value</td>\n",
       "    </tr>\n",
       "    <tr>\n",
       "      <th>174535</th>\n",
       "      <td>WSM</td>\n",
       "      <td>Samoa</td>\n",
       "      <td>B11</td>\n",
       "      <td>Inflows of foreign population by nationality</td>\n",
       "      <td>TOT</td>\n",
       "      <td>Total</td>\n",
       "      <td>BEL</td>\n",
       "      <td>Belgium</td>\n",
       "      <td>2010</td>\n",
       "      <td>2010</td>\n",
       "      <td>NaN</td>\n",
       "      <td>e</td>\n",
       "      <td>Estimated value</td>\n",
       "    </tr>\n",
       "    <tr>\n",
       "      <th>201494</th>\n",
       "      <td>TKL</td>\n",
       "      <td>Tokelau</td>\n",
       "      <td>B11</td>\n",
       "      <td>Inflows of foreign population by nationality</td>\n",
       "      <td>TOT</td>\n",
       "      <td>Total</td>\n",
       "      <td>BEL</td>\n",
       "      <td>Belgium</td>\n",
       "      <td>2010</td>\n",
       "      <td>2010</td>\n",
       "      <td>NaN</td>\n",
       "      <td>e</td>\n",
       "      <td>Estimated value</td>\n",
       "    </tr>\n",
       "    <tr>\n",
       "      <th>201977</th>\n",
       "      <td>TON</td>\n",
       "      <td>Tonga</td>\n",
       "      <td>B11</td>\n",
       "      <td>Inflows of foreign population by nationality</td>\n",
       "      <td>TOT</td>\n",
       "      <td>Total</td>\n",
       "      <td>BEL</td>\n",
       "      <td>Belgium</td>\n",
       "      <td>2010</td>\n",
       "      <td>2010</td>\n",
       "      <td>NaN</td>\n",
       "      <td>e</td>\n",
       "      <td>Estimated value</td>\n",
       "    </tr>\n",
       "    <tr>\n",
       "      <th>208028</th>\n",
       "      <td>TUV</td>\n",
       "      <td>Tuvalu</td>\n",
       "      <td>B11</td>\n",
       "      <td>Inflows of foreign population by nationality</td>\n",
       "      <td>TOT</td>\n",
       "      <td>Total</td>\n",
       "      <td>BEL</td>\n",
       "      <td>Belgium</td>\n",
       "      <td>2010</td>\n",
       "      <td>2010</td>\n",
       "      <td>NaN</td>\n",
       "      <td>e</td>\n",
       "      <td>Estimated value</td>\n",
       "    </tr>\n",
       "    <tr>\n",
       "      <th>215140</th>\n",
       "      <td>VUT</td>\n",
       "      <td>Vanuatu</td>\n",
       "      <td>B11</td>\n",
       "      <td>Inflows of foreign population by nationality</td>\n",
       "      <td>TOT</td>\n",
       "      <td>Total</td>\n",
       "      <td>BEL</td>\n",
       "      <td>Belgium</td>\n",
       "      <td>2010</td>\n",
       "      <td>2010</td>\n",
       "      <td>NaN</td>\n",
       "      <td>e</td>\n",
       "      <td>Estimated value</td>\n",
       "    </tr>\n",
       "  </tbody>\n",
       "</table>\n",
       "</div>"
      ],
      "text/plain": [
       "       Origin      Country of birth/nationality  VAR  \\\n",
       "5510      ATG               Antigua and Barbuda  B11   \n",
       "20051     BEL                           Belgium  B11   \n",
       "21179     BLZ                            Belize  B11   \n",
       "23660     BMU                           Bermuda  B11   \n",
       "47664     COK                      Cook Islands  B11   \n",
       "84966     GRD                           Grenada  B11   \n",
       "85757     GUM                              Guam  B11   \n",
       "93363     HKG                  Hong Kong, China  B11   \n",
       "111769    KIR                          Kiribati  B11   \n",
       "120359    LSO                           Lesotho  B11   \n",
       "127182    MAC                             Macau  B11   \n",
       "132909    MDV                          Maldives  B11   \n",
       "135898    MHL                  Marshall Islands  B11   \n",
       "139609    FSM                        Micronesia  B11   \n",
       "147734    NRU                             Nauru  B11   \n",
       "154666    NIU                              Niue  B11   \n",
       "158355    PLW                             Palau  B11   \n",
       "160405    PNG                  Papua New Guinea  B11   \n",
       "167812    PRI                       Puerto Rico  B11   \n",
       "172657    KNA             Saint Kitts and Nevis  B11   \n",
       "173857    VCT  Saint Vincent and the Grenadines  B11   \n",
       "174535    WSM                             Samoa  B11   \n",
       "201494    TKL                           Tokelau  B11   \n",
       "201977    TON                             Tonga  B11   \n",
       "208028    TUV                            Tuvalu  B11   \n",
       "215140    VUT                           Vanuatu  B11   \n",
       "\n",
       "                                            Variable  GEN Gender Destination  \\\n",
       "5510    Inflows of foreign population by nationality  TOT  Total         BEL   \n",
       "20051   Inflows of foreign population by nationality  TOT  Total         BEL   \n",
       "21179   Inflows of foreign population by nationality  TOT  Total         BEL   \n",
       "23660   Inflows of foreign population by nationality  TOT  Total         BEL   \n",
       "47664   Inflows of foreign population by nationality  TOT  Total         BEL   \n",
       "84966   Inflows of foreign population by nationality  TOT  Total         BEL   \n",
       "85757   Inflows of foreign population by nationality  TOT  Total         BEL   \n",
       "93363   Inflows of foreign population by nationality  TOT  Total         BEL   \n",
       "111769  Inflows of foreign population by nationality  TOT  Total         BEL   \n",
       "120359  Inflows of foreign population by nationality  TOT  Total         BEL   \n",
       "127182  Inflows of foreign population by nationality  TOT  Total         BEL   \n",
       "132909  Inflows of foreign population by nationality  TOT  Total         BEL   \n",
       "135898  Inflows of foreign population by nationality  TOT  Total         BEL   \n",
       "139609  Inflows of foreign population by nationality  TOT  Total         BEL   \n",
       "147734  Inflows of foreign population by nationality  TOT  Total         BEL   \n",
       "154666  Inflows of foreign population by nationality  TOT  Total         BEL   \n",
       "158355  Inflows of foreign population by nationality  TOT  Total         BEL   \n",
       "160405  Inflows of foreign population by nationality  TOT  Total         BEL   \n",
       "167812  Inflows of foreign population by nationality  TOT  Total         BEL   \n",
       "172657  Inflows of foreign population by nationality  TOT  Total         BEL   \n",
       "173857  Inflows of foreign population by nationality  TOT  Total         BEL   \n",
       "174535  Inflows of foreign population by nationality  TOT  Total         BEL   \n",
       "201494  Inflows of foreign population by nationality  TOT  Total         BEL   \n",
       "201977  Inflows of foreign population by nationality  TOT  Total         BEL   \n",
       "208028  Inflows of foreign population by nationality  TOT  Total         BEL   \n",
       "215140  Inflows of foreign population by nationality  TOT  Total         BEL   \n",
       "\n",
       "        Country   YEA  Year  Value Flag Codes            Flags  \n",
       "5510    Belgium  2010  2010    NaN          e  Estimated value  \n",
       "20051   Belgium  2010  2010    NaN          e  Estimated value  \n",
       "21179   Belgium  2010  2010    NaN          e  Estimated value  \n",
       "23660   Belgium  2010  2010    NaN          e  Estimated value  \n",
       "47664   Belgium  2010  2010    NaN          e  Estimated value  \n",
       "84966   Belgium  2010  2010    NaN          e  Estimated value  \n",
       "85757   Belgium  2010  2010    NaN          e  Estimated value  \n",
       "93363   Belgium  2010  2010    NaN          e  Estimated value  \n",
       "111769  Belgium  2010  2010    NaN          e  Estimated value  \n",
       "120359  Belgium  2010  2010    NaN          e  Estimated value  \n",
       "127182  Belgium  2010  2010    NaN          e  Estimated value  \n",
       "132909  Belgium  2010  2010    NaN          e  Estimated value  \n",
       "135898  Belgium  2010  2010    NaN          e  Estimated value  \n",
       "139609  Belgium  2010  2010    NaN          e  Estimated value  \n",
       "147734  Belgium  2010  2010    NaN          e  Estimated value  \n",
       "154666  Belgium  2010  2010    NaN          e  Estimated value  \n",
       "158355  Belgium  2010  2010    NaN          e  Estimated value  \n",
       "160405  Belgium  2010  2010    NaN          e  Estimated value  \n",
       "167812  Belgium  2010  2010    NaN          e  Estimated value  \n",
       "172657  Belgium  2010  2010    NaN          e  Estimated value  \n",
       "173857  Belgium  2010  2010    NaN          e  Estimated value  \n",
       "174535  Belgium  2010  2010    NaN          e  Estimated value  \n",
       "201494  Belgium  2010  2010    NaN          e  Estimated value  \n",
       "201977  Belgium  2010  2010    NaN          e  Estimated value  \n",
       "208028  Belgium  2010  2010    NaN          e  Estimated value  \n",
       "215140  Belgium  2010  2010    NaN          e  Estimated value  "
      ]
     },
     "execution_count": 48,
     "metadata": {},
     "output_type": "execute_result"
    }
   ],
   "source": [
    "migration_inflows_raw[migration_inflows_raw['Flag Codes'] == 'e']"
   ]
  },
  {
   "cell_type": "markdown",
   "metadata": {},
   "source": [
    "Analizando los valores no nulos de las variables Flag Codes y Flags, se observan tres hechos:\n",
    " - Cuando las variables Flags y Flag Codes son no nulos, la variable Value es nulo. Esto es debido a que Flags y Flag Codes se refieren a situaciones en las que el valor no ha sido estimado, por lo que faltaría información en la variable Value.\n",
    " - La situación de valores no nulos en Flags y Flag Codes solo se da para Bélgica en el año 2010.\n",
    " - Existe la situación donde el origen y el destino es el mismo país, en este caso es en Bélgica. Dada esta información se debe estudiar si se da el mismo caso para el resto de países."
   ]
  },
  {
   "cell_type": "markdown",
   "metadata": {},
   "source": [
    "__Eliminación de las variables__"
   ]
  },
  {
   "cell_type": "code",
   "execution_count": 49,
   "metadata": {},
   "outputs": [],
   "source": [
    "delete = ['Country of birth/nationality', 'VAR', 'Variable', 'GEN', 'Gender', 'Country', 'YEA', 'Flag Codes', 'Flags']\n",
    "\n",
    "migration_inflows = migration_inflows_raw.drop(delete, axis = 1)"
   ]
  },
  {
   "cell_type": "code",
   "execution_count": 50,
   "metadata": {
    "scrolled": true
   },
   "outputs": [
    {
     "data": {
      "text/html": [
       "<div>\n",
       "<style scoped>\n",
       "    .dataframe tbody tr th:only-of-type {\n",
       "        vertical-align: middle;\n",
       "    }\n",
       "\n",
       "    .dataframe tbody tr th {\n",
       "        vertical-align: top;\n",
       "    }\n",
       "\n",
       "    .dataframe thead th {\n",
       "        text-align: right;\n",
       "    }\n",
       "</style>\n",
       "<table border=\"1\" class=\"dataframe\">\n",
       "  <thead>\n",
       "    <tr style=\"text-align: right;\">\n",
       "      <th></th>\n",
       "      <th>Origin</th>\n",
       "      <th>Destination</th>\n",
       "      <th>Year</th>\n",
       "      <th>Value</th>\n",
       "    </tr>\n",
       "  </thead>\n",
       "  <tbody>\n",
       "    <tr>\n",
       "      <th>55</th>\n",
       "      <td>AFG</td>\n",
       "      <td>AUT</td>\n",
       "      <td>2000</td>\n",
       "      <td>828.0</td>\n",
       "    </tr>\n",
       "    <tr>\n",
       "      <th>56</th>\n",
       "      <td>AFG</td>\n",
       "      <td>AUT</td>\n",
       "      <td>2001</td>\n",
       "      <td>1539.0</td>\n",
       "    </tr>\n",
       "    <tr>\n",
       "      <th>57</th>\n",
       "      <td>AFG</td>\n",
       "      <td>AUT</td>\n",
       "      <td>2002</td>\n",
       "      <td>1101.0</td>\n",
       "    </tr>\n",
       "    <tr>\n",
       "      <th>58</th>\n",
       "      <td>AFG</td>\n",
       "      <td>AUT</td>\n",
       "      <td>2003</td>\n",
       "      <td>743.0</td>\n",
       "    </tr>\n",
       "    <tr>\n",
       "      <th>59</th>\n",
       "      <td>AFG</td>\n",
       "      <td>AUT</td>\n",
       "      <td>2004</td>\n",
       "      <td>650.0</td>\n",
       "    </tr>\n",
       "  </tbody>\n",
       "</table>\n",
       "</div>"
      ],
      "text/plain": [
       "   Origin Destination  Year   Value\n",
       "55    AFG         AUT  2000   828.0\n",
       "56    AFG         AUT  2001  1539.0\n",
       "57    AFG         AUT  2002  1101.0\n",
       "58    AFG         AUT  2003   743.0\n",
       "59    AFG         AUT  2004   650.0"
      ]
     },
     "execution_count": 50,
     "metadata": {},
     "output_type": "execute_result"
    }
   ],
   "source": [
    "migration_inflows.head()"
   ]
  },
  {
   "cell_type": "markdown",
   "metadata": {},
   "source": [
    "En primer lugar se realizará una explicación respecto a las variables que se han mantenido en la base de datos:\n",
    "\n",
    " - Origin: Representa el país de nacimiento o de nacionalidad de los migrantes. Se considera el luegar de origen.\n",
    " - Destination: Representa el país al que se han dirigido los migrantes.\n",
    " - Year: Representa el año en el que se produjeron los flujos migratorios.\n",
    " - Value: Representa la cantidad total de migrantes que se dirigieron al país de destino desde un origen y en el año indicado.\n",
    " - Coste: Representa la distancia en kilometros desde el país de origen al país de destino."
   ]
  },
  {
   "cell_type": "markdown",
   "metadata": {},
   "source": [
    "__Análisis de valores nulos__"
   ]
  },
  {
   "cell_type": "code",
   "execution_count": 51,
   "metadata": {
    "scrolled": false
   },
   "outputs": [
    {
     "data": {
      "text/plain": [
       "Value          0.038527\n",
       "Year           0.000000\n",
       "Destination    0.000000\n",
       "Origin         0.000000\n",
       "dtype: float64"
      ]
     },
     "execution_count": 51,
     "metadata": {},
     "output_type": "execute_result"
    }
   ],
   "source": [
    "((migration_inflows.iloc[:, 0:5].isnull().sum() / len(migration_inflows))*100).sort_values(ascending = False)"
   ]
  },
  {
   "cell_type": "markdown",
   "metadata": {},
   "source": [
    "La variable Value es la única que cuenta con valores núlos, esto es debido a lo visto anteriormente con las variables Flags y Flag Codes (se puede calcular la tendencia de migracion de esos países a Bélgica y aplicarla a esos años para que no haya una diferencia considerable, como hacer una predicción si tuviesemos solo datos hasta 2009).\n",
    "Se decide modificar esos valores nulos eliminando las observaciones. Poner la media, ya que los flujos migratorios podrían sufrir una tendencia creciente o decreciente, sesgaría la información."
   ]
  },
  {
   "cell_type": "code",
   "execution_count": 52,
   "metadata": {},
   "outputs": [],
   "source": [
    "migration_inflows = migration_inflows.dropna()"
   ]
  },
  {
   "cell_type": "markdown",
   "metadata": {},
   "source": [
    "__Crear variable de coste__"
   ]
  },
  {
   "cell_type": "markdown",
   "metadata": {},
   "source": [
    "Carga de base de datos con las distancias entre países para después incluirla en el dataset de migration_inflows."
   ]
  },
  {
   "cell_type": "code",
   "execution_count": 53,
   "metadata": {
    "scrolled": true
   },
   "outputs": [
    {
     "name": "stdout",
     "output_type": "stream",
     "text": [
      "<class 'pandas.core.frame.DataFrame'>\n",
      "RangeIndex: 50176 entries, 0 to 50175\n",
      "Data columns (total 4 columns):\n",
      " #   Column   Non-Null Count  Dtype  \n",
      "---  ------   --------------  -----  \n",
      " 0   iso_o    50176 non-null  object \n",
      " 1   iso_d    50176 non-null  object \n",
      " 2   dist     50176 non-null  float64\n",
      " 3   distcap  50176 non-null  float64\n",
      "dtypes: float64(2), object(2)\n",
      "memory usage: 1.5+ MB\n"
     ]
    }
   ],
   "source": [
    "dist = pd.read_excel('../data/dist_cepii.xls')\n",
    "dist.info()"
   ]
  },
  {
   "cell_type": "code",
   "execution_count": 54,
   "metadata": {},
   "outputs": [
    {
     "data": {
      "text/html": [
       "<div>\n",
       "<style scoped>\n",
       "    .dataframe tbody tr th:only-of-type {\n",
       "        vertical-align: middle;\n",
       "    }\n",
       "\n",
       "    .dataframe tbody tr th {\n",
       "        vertical-align: top;\n",
       "    }\n",
       "\n",
       "    .dataframe thead th {\n",
       "        text-align: right;\n",
       "    }\n",
       "</style>\n",
       "<table border=\"1\" class=\"dataframe\">\n",
       "  <thead>\n",
       "    <tr style=\"text-align: right;\">\n",
       "      <th></th>\n",
       "      <th>iso_o</th>\n",
       "      <th>iso_d</th>\n",
       "      <th>dist</th>\n",
       "      <th>distcap</th>\n",
       "    </tr>\n",
       "  </thead>\n",
       "  <tbody>\n",
       "    <tr>\n",
       "      <th>0</th>\n",
       "      <td>ABW</td>\n",
       "      <td>ABW</td>\n",
       "      <td>5.225315</td>\n",
       "      <td>5.225315</td>\n",
       "    </tr>\n",
       "    <tr>\n",
       "      <th>1</th>\n",
       "      <td>ABW</td>\n",
       "      <td>AFG</td>\n",
       "      <td>13257.810000</td>\n",
       "      <td>13257.810000</td>\n",
       "    </tr>\n",
       "    <tr>\n",
       "      <th>2</th>\n",
       "      <td>ABW</td>\n",
       "      <td>AGO</td>\n",
       "      <td>9516.913000</td>\n",
       "      <td>9516.913000</td>\n",
       "    </tr>\n",
       "    <tr>\n",
       "      <th>3</th>\n",
       "      <td>ABW</td>\n",
       "      <td>AIA</td>\n",
       "      <td>983.268200</td>\n",
       "      <td>983.268200</td>\n",
       "    </tr>\n",
       "    <tr>\n",
       "      <th>4</th>\n",
       "      <td>ABW</td>\n",
       "      <td>ALB</td>\n",
       "      <td>9091.742000</td>\n",
       "      <td>9091.742000</td>\n",
       "    </tr>\n",
       "  </tbody>\n",
       "</table>\n",
       "</div>"
      ],
      "text/plain": [
       "  iso_o iso_d          dist       distcap\n",
       "0   ABW   ABW      5.225315      5.225315\n",
       "1   ABW   AFG  13257.810000  13257.810000\n",
       "2   ABW   AGO   9516.913000   9516.913000\n",
       "3   ABW   AIA    983.268200    983.268200\n",
       "4   ABW   ALB   9091.742000   9091.742000"
      ]
     },
     "execution_count": 54,
     "metadata": {},
     "output_type": "execute_result"
    }
   ],
   "source": [
    "dist.head()"
   ]
  },
  {
   "cell_type": "markdown",
   "metadata": {},
   "source": [
    "El dataset de distancias cuenta con 4 variables:\n",
    "- __iso_o:__ País de origen.\n",
    "- __iso_d:__ País de destino.\n",
    "- __dist:__ Distancia entre las ciudades más pobladas de ambos países.\n",
    "- __distcap:__ Distancia entre las capitales de ambos países.\n",
    "\n",
    "La distancia a tener en cuenta será la distancia entre las ciudades más pobladas, ya que se puede esperar una mayor migración en estas ciudades y lo consideramos más representativo."
   ]
  },
  {
   "cell_type": "code",
   "execution_count": 55,
   "metadata": {
    "scrolled": true
   },
   "outputs": [
    {
     "data": {
      "text/plain": [
       "array(['ABW', 'AFG', 'AGO', 'AIA', 'ALB', 'AND', 'ANT', 'ARE', 'ARG',\n",
       "       'ARM', 'ATG', 'AUS', 'AUT', 'AZE', 'BDI', 'BEL', 'BEN', 'BFA',\n",
       "       'BGD', 'BGR', 'BHR', 'BHS', 'BIH', 'BLR', 'BLZ', 'BMU', 'BOL',\n",
       "       'BRA', 'BRB', 'BRN', 'BTN', 'BWA', 'CAF', 'CAN', 'CCK', 'CHE',\n",
       "       'CHL', 'CHN', 'CIV', 'CMR', 'COG', 'COK', 'COL', 'COM', 'CPV',\n",
       "       'CRI', 'CUB', 'CXR', 'CYM', 'CYP', 'CZE', 'DEU', 'DJI', 'DMA',\n",
       "       'DNK', 'DOM', 'DZA', 'ECU', 'EGY', 'ERI', 'ESH', 'ESP', 'EST',\n",
       "       'ETH', 'FIN', 'FJI', 'FLK', 'FRA', 'FRO', 'FSM', 'GAB', 'GBR',\n",
       "       'GEO', 'GHA', 'GIB', 'GIN', 'GLP', 'GMB', 'GNB', 'GNQ', 'GRC',\n",
       "       'GRD', 'GRL', 'GTM', 'GUF', 'GUY', 'HKG', 'HND', 'HRV', 'HTI',\n",
       "       'HUN', 'IDN', 'IND', 'IRL', 'IRN', 'IRQ', 'ISL', 'ISR', 'ITA',\n",
       "       'JAM', 'JOR', 'JPN', 'KAZ', 'KEN', 'KGZ', 'KHM', 'KIR', 'KNA',\n",
       "       'KOR', 'KWT', 'LAO', 'LBN', 'LBR', 'LBY', 'LCA', 'LKA', 'LSO',\n",
       "       'LTU', 'LUX', 'LVA', 'MAC', 'MAR', 'MDA', 'MDG', 'MDV', 'MEX',\n",
       "       'MHL', 'MKD', 'MLI', 'MLT', 'MMR', 'MNG', 'MNP', 'MOZ', 'MRT',\n",
       "       'MSR', 'MTQ', 'MUS', 'MWI', 'MYS', 'NAM', 'NCL', 'NER', 'NFK',\n",
       "       'NGA', 'NIC', 'NIU', 'NLD', 'NOR', 'NPL', 'NRU', 'NZL', 'OMN',\n",
       "       'PAK', 'PAL', 'PAN', 'PCN', 'PER', 'PHL', 'PLW', 'PNG', 'POL',\n",
       "       'PRI', 'PRK', 'PRT', 'PRY', 'PYF', 'QAT', 'REU', 'ROM', 'RUS',\n",
       "       'RWA', 'SAU', 'SDN', 'SEN', 'SGP', 'SHN', 'SLB', 'SLE', 'SLV',\n",
       "       'SMR', 'SOM', 'SPM', 'STP', 'SUR', 'SVK', 'SVN', 'SWE', 'SWZ',\n",
       "       'SYC', 'SYR', 'TCA', 'TCD', 'TGO', 'THA', 'TJK', 'TKL', 'TKM',\n",
       "       'TMP', 'TON', 'TTO', 'TUN', 'TUR', 'TUV', 'TWN', 'TZA', 'UGA',\n",
       "       'UKR', 'URY', 'USA', 'UZB', 'VCT', 'VEN', 'VGB', 'VNM', 'VUT',\n",
       "       'WLF', 'WSM', 'YEM', 'YUG', 'ZAF', 'ZAR', 'ZMB', 'ZWE'],\n",
       "      dtype=object)"
      ]
     },
     "execution_count": 55,
     "metadata": {},
     "output_type": "execute_result"
    }
   ],
   "source": [
    "dist.iso_o.unique()"
   ]
  },
  {
   "cell_type": "code",
   "execution_count": 56,
   "metadata": {},
   "outputs": [
    {
     "data": {
      "text/plain": [
       "array(['ABW', 'AFG', 'AGO', 'AIA', 'ALB', 'AND', 'ANT', 'ARE', 'ARG',\n",
       "       'ARM', 'ATG', 'AUS', 'AUT', 'AZE', 'BDI', 'BEL', 'BEN', 'BFA',\n",
       "       'BGD', 'BGR', 'BHR', 'BHS', 'BIH', 'BLR', 'BLZ', 'BMU', 'BOL',\n",
       "       'BRA', 'BRB', 'BRN', 'BTN', 'BWA', 'CAF', 'CAN', 'CCK', 'CHE',\n",
       "       'CHL', 'CHN', 'CIV', 'CMR', 'COG', 'COK', 'COL', 'COM', 'CPV',\n",
       "       'CRI', 'CUB', 'CXR', 'CYM', 'CYP', 'CZE', 'DEU', 'DJI', 'DMA',\n",
       "       'DNK', 'DOM', 'DZA', 'ECU', 'EGY', 'ERI', 'ESH', 'ESP', 'EST',\n",
       "       'ETH', 'FIN', 'FJI', 'FLK', 'FRA', 'FRO', 'FSM', 'GAB', 'GBR',\n",
       "       'GEO', 'GHA', 'GIB', 'GIN', 'GLP', 'GMB', 'GNB', 'GNQ', 'GRC',\n",
       "       'GRD', 'GRL', 'GTM', 'GUF', 'GUY', 'HKG', 'HND', 'HRV', 'HTI',\n",
       "       'HUN', 'IDN', 'IND', 'IRL', 'IRN', 'IRQ', 'ISL', 'ISR', 'ITA',\n",
       "       'JAM', 'JOR', 'JPN', 'KAZ', 'KEN', 'KGZ', 'KHM', 'KIR', 'KNA',\n",
       "       'KOR', 'KWT', 'LAO', 'LBN', 'LBR', 'LBY', 'LCA', 'LKA', 'LSO',\n",
       "       'LTU', 'LUX', 'LVA', 'MAC', 'MAR', 'MDA', 'MDG', 'MDV', 'MEX',\n",
       "       'MHL', 'MKD', 'MLI', 'MLT', 'MMR', 'MNG', 'MNP', 'MOZ', 'MRT',\n",
       "       'MSR', 'MTQ', 'MUS', 'MWI', 'MYS', 'NAM', 'NCL', 'NER', 'NFK',\n",
       "       'NGA', 'NIC', 'NIU', 'NLD', 'NOR', 'NPL', 'NRU', 'NZL', 'OMN',\n",
       "       'PAK', 'PAL', 'PAN', 'PCN', 'PER', 'PHL', 'PLW', 'PNG', 'POL',\n",
       "       'PRI', 'PRK', 'PRT', 'PRY', 'PYF', 'QAT', 'REU', 'ROM', 'RUS',\n",
       "       'RWA', 'SAU', 'SDN', 'SEN', 'SGP', 'SHN', 'SLB', 'SLE', 'SLV',\n",
       "       'SMR', 'SOM', 'SPM', 'STP', 'SUR', 'SVK', 'SVN', 'SWE', 'SWZ',\n",
       "       'SYC', 'SYR', 'TCA', 'TCD', 'TGO', 'THA', 'TJK', 'TKL', 'TKM',\n",
       "       'TMP', 'TON', 'TTO', 'TUN', 'TUR', 'TUV', 'TWN', 'TZA', 'UGA',\n",
       "       'UKR', 'URY', 'USA', 'UZB', 'VCT', 'VEN', 'VGB', 'VNM', 'VUT',\n",
       "       'WLF', 'WSM', 'YEM', 'YUG', 'ZAF', 'ZAR', 'ZMB', 'ZWE'],\n",
       "      dtype=object)"
      ]
     },
     "execution_count": 56,
     "metadata": {},
     "output_type": "execute_result"
    }
   ],
   "source": [
    "dist.iso_d.unique()"
   ]
  },
  {
   "cell_type": "code",
   "execution_count": 57,
   "metadata": {},
   "outputs": [],
   "source": [
    "migration_inflows1 = pd.merge(migration_inflows, dist[['iso_o', 'iso_d','dist']],\n",
    "                              how=\"left\",\n",
    "                              left_on=['Origin', 'Destination'],\n",
    "                              right_on=['iso_o', 'iso_d'])"
   ]
  },
  {
   "cell_type": "code",
   "execution_count": 58,
   "metadata": {
    "scrolled": false
   },
   "outputs": [],
   "source": [
    "migration_inflows1 = migration_inflows1.drop(['iso_o', 'iso_d'], axis = 1)"
   ]
  },
  {
   "cell_type": "code",
   "execution_count": 59,
   "metadata": {},
   "outputs": [
    {
     "data": {
      "text/html": [
       "<div>\n",
       "<style scoped>\n",
       "    .dataframe tbody tr th:only-of-type {\n",
       "        vertical-align: middle;\n",
       "    }\n",
       "\n",
       "    .dataframe tbody tr th {\n",
       "        vertical-align: top;\n",
       "    }\n",
       "\n",
       "    .dataframe thead th {\n",
       "        text-align: right;\n",
       "    }\n",
       "</style>\n",
       "<table border=\"1\" class=\"dataframe\">\n",
       "  <thead>\n",
       "    <tr style=\"text-align: right;\">\n",
       "      <th></th>\n",
       "      <th>Origin</th>\n",
       "      <th>Destination</th>\n",
       "      <th>Year</th>\n",
       "      <th>Value</th>\n",
       "      <th>dist</th>\n",
       "    </tr>\n",
       "  </thead>\n",
       "  <tbody>\n",
       "    <tr>\n",
       "      <th>0</th>\n",
       "      <td>AFG</td>\n",
       "      <td>AUT</td>\n",
       "      <td>2000</td>\n",
       "      <td>828.0</td>\n",
       "      <td>4568.098</td>\n",
       "    </tr>\n",
       "    <tr>\n",
       "      <th>1</th>\n",
       "      <td>AFG</td>\n",
       "      <td>AUT</td>\n",
       "      <td>2001</td>\n",
       "      <td>1539.0</td>\n",
       "      <td>4568.098</td>\n",
       "    </tr>\n",
       "    <tr>\n",
       "      <th>2</th>\n",
       "      <td>AFG</td>\n",
       "      <td>AUT</td>\n",
       "      <td>2002</td>\n",
       "      <td>1101.0</td>\n",
       "      <td>4568.098</td>\n",
       "    </tr>\n",
       "    <tr>\n",
       "      <th>3</th>\n",
       "      <td>AFG</td>\n",
       "      <td>AUT</td>\n",
       "      <td>2003</td>\n",
       "      <td>743.0</td>\n",
       "      <td>4568.098</td>\n",
       "    </tr>\n",
       "    <tr>\n",
       "      <th>4</th>\n",
       "      <td>AFG</td>\n",
       "      <td>AUT</td>\n",
       "      <td>2004</td>\n",
       "      <td>650.0</td>\n",
       "      <td>4568.098</td>\n",
       "    </tr>\n",
       "  </tbody>\n",
       "</table>\n",
       "</div>"
      ],
      "text/plain": [
       "  Origin Destination  Year   Value      dist\n",
       "0    AFG         AUT  2000   828.0  4568.098\n",
       "1    AFG         AUT  2001  1539.0  4568.098\n",
       "2    AFG         AUT  2002  1101.0  4568.098\n",
       "3    AFG         AUT  2003   743.0  4568.098\n",
       "4    AFG         AUT  2004   650.0  4568.098"
      ]
     },
     "execution_count": 59,
     "metadata": {},
     "output_type": "execute_result"
    }
   ],
   "source": [
    "migration_inflows1.head()"
   ]
  },
  {
   "cell_type": "markdown",
   "metadata": {},
   "source": [
    "Guardar la base de datos ya limpia"
   ]
  },
  {
   "cell_type": "code",
   "execution_count": 60,
   "metadata": {},
   "outputs": [],
   "source": [
    "migration_inflows1.to_csv('../data/migration_inflows.csv', index = False)"
   ]
  }
 ],
 "metadata": {
  "kernelspec": {
   "display_name": "migration_flows",
   "language": "python",
   "name": "migration_flows"
  },
  "language_info": {
   "codemirror_mode": {
    "name": "ipython",
    "version": 3
   },
   "file_extension": ".py",
   "mimetype": "text/x-python",
   "name": "python",
   "nbconvert_exporter": "python",
   "pygments_lexer": "ipython3",
   "version": "3.7.9"
  }
 },
 "nbformat": 4,
 "nbformat_minor": 4
}
